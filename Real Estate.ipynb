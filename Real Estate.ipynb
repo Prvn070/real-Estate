{
 "cells": [
  {
   "cell_type": "code",
   "execution_count": 92,
   "metadata": {},
   "outputs": [],
   "source": [
    "import pandas as pd\n",
    "import numpy as np\n",
    "import matplotlib.pyplot as plt\n",
    "import seaborn as sns\n",
    "%matplotlib inline"
   ]
  },
  {
   "cell_type": "code",
   "execution_count": 93,
   "metadata": {},
   "outputs": [],
   "source": [
    "test=pd.read_csv('test.csv')\n",
    "train=pd.read_csv('train.csv')"
   ]
  },
  {
   "cell_type": "code",
   "execution_count": 94,
   "metadata": {},
   "outputs": [
    {
     "name": "stdout",
     "output_type": "stream",
     "text": [
      "(11709, 80)\n",
      "(27321, 80)\n"
     ]
    }
   ],
   "source": [
    "#shape of data\n",
    "print(test.shape)\n",
    "print(train.shape)"
   ]
  },
  {
   "cell_type": "code",
   "execution_count": 95,
   "metadata": {},
   "outputs": [
    {
     "data": {
      "text/html": [
       "<div>\n",
       "<style scoped>\n",
       "    .dataframe tbody tr th:only-of-type {\n",
       "        vertical-align: middle;\n",
       "    }\n",
       "\n",
       "    .dataframe tbody tr th {\n",
       "        vertical-align: top;\n",
       "    }\n",
       "\n",
       "    .dataframe thead th {\n",
       "        text-align: right;\n",
       "    }\n",
       "</style>\n",
       "<table border=\"1\" class=\"dataframe\">\n",
       "  <thead>\n",
       "    <tr style=\"text-align: right;\">\n",
       "      <th></th>\n",
       "      <th>UID</th>\n",
       "      <th>BLOCKID</th>\n",
       "      <th>SUMLEVEL</th>\n",
       "      <th>COUNTYID</th>\n",
       "      <th>STATEID</th>\n",
       "      <th>state</th>\n",
       "      <th>state_ab</th>\n",
       "      <th>city</th>\n",
       "      <th>place</th>\n",
       "      <th>type</th>\n",
       "      <th>...</th>\n",
       "      <th>female_age_mean</th>\n",
       "      <th>female_age_median</th>\n",
       "      <th>female_age_stdev</th>\n",
       "      <th>female_age_sample_weight</th>\n",
       "      <th>female_age_samples</th>\n",
       "      <th>pct_own</th>\n",
       "      <th>married</th>\n",
       "      <th>married_snp</th>\n",
       "      <th>separated</th>\n",
       "      <th>divorced</th>\n",
       "    </tr>\n",
       "  </thead>\n",
       "  <tbody>\n",
       "    <tr>\n",
       "      <th>0</th>\n",
       "      <td>267822</td>\n",
       "      <td>NaN</td>\n",
       "      <td>140</td>\n",
       "      <td>53</td>\n",
       "      <td>36</td>\n",
       "      <td>New York</td>\n",
       "      <td>NY</td>\n",
       "      <td>Hamilton</td>\n",
       "      <td>Hamilton</td>\n",
       "      <td>City</td>\n",
       "      <td>...</td>\n",
       "      <td>44.48629</td>\n",
       "      <td>45.33333</td>\n",
       "      <td>22.51276</td>\n",
       "      <td>685.33845</td>\n",
       "      <td>2618.0</td>\n",
       "      <td>0.79046</td>\n",
       "      <td>0.57851</td>\n",
       "      <td>0.01882</td>\n",
       "      <td>0.01240</td>\n",
       "      <td>0.08770</td>\n",
       "    </tr>\n",
       "    <tr>\n",
       "      <th>1</th>\n",
       "      <td>246444</td>\n",
       "      <td>NaN</td>\n",
       "      <td>140</td>\n",
       "      <td>141</td>\n",
       "      <td>18</td>\n",
       "      <td>Indiana</td>\n",
       "      <td>IN</td>\n",
       "      <td>South Bend</td>\n",
       "      <td>Roseland</td>\n",
       "      <td>City</td>\n",
       "      <td>...</td>\n",
       "      <td>36.48391</td>\n",
       "      <td>37.58333</td>\n",
       "      <td>23.43353</td>\n",
       "      <td>267.23367</td>\n",
       "      <td>1284.0</td>\n",
       "      <td>0.52483</td>\n",
       "      <td>0.34886</td>\n",
       "      <td>0.01426</td>\n",
       "      <td>0.01426</td>\n",
       "      <td>0.09030</td>\n",
       "    </tr>\n",
       "    <tr>\n",
       "      <th>2</th>\n",
       "      <td>245683</td>\n",
       "      <td>NaN</td>\n",
       "      <td>140</td>\n",
       "      <td>63</td>\n",
       "      <td>18</td>\n",
       "      <td>Indiana</td>\n",
       "      <td>IN</td>\n",
       "      <td>Danville</td>\n",
       "      <td>Danville</td>\n",
       "      <td>City</td>\n",
       "      <td>...</td>\n",
       "      <td>42.15810</td>\n",
       "      <td>42.83333</td>\n",
       "      <td>23.94119</td>\n",
       "      <td>707.01963</td>\n",
       "      <td>3238.0</td>\n",
       "      <td>0.85331</td>\n",
       "      <td>0.64745</td>\n",
       "      <td>0.02830</td>\n",
       "      <td>0.01607</td>\n",
       "      <td>0.10657</td>\n",
       "    </tr>\n",
       "    <tr>\n",
       "      <th>3</th>\n",
       "      <td>279653</td>\n",
       "      <td>NaN</td>\n",
       "      <td>140</td>\n",
       "      <td>127</td>\n",
       "      <td>72</td>\n",
       "      <td>Puerto Rico</td>\n",
       "      <td>PR</td>\n",
       "      <td>San Juan</td>\n",
       "      <td>Guaynabo</td>\n",
       "      <td>Urban</td>\n",
       "      <td>...</td>\n",
       "      <td>47.77526</td>\n",
       "      <td>50.58333</td>\n",
       "      <td>24.32015</td>\n",
       "      <td>362.20193</td>\n",
       "      <td>1559.0</td>\n",
       "      <td>0.65037</td>\n",
       "      <td>0.47257</td>\n",
       "      <td>0.02021</td>\n",
       "      <td>0.02021</td>\n",
       "      <td>0.10106</td>\n",
       "    </tr>\n",
       "    <tr>\n",
       "      <th>4</th>\n",
       "      <td>247218</td>\n",
       "      <td>NaN</td>\n",
       "      <td>140</td>\n",
       "      <td>161</td>\n",
       "      <td>20</td>\n",
       "      <td>Kansas</td>\n",
       "      <td>KS</td>\n",
       "      <td>Manhattan</td>\n",
       "      <td>Manhattan City</td>\n",
       "      <td>City</td>\n",
       "      <td>...</td>\n",
       "      <td>24.17693</td>\n",
       "      <td>21.58333</td>\n",
       "      <td>11.10484</td>\n",
       "      <td>1854.48652</td>\n",
       "      <td>3051.0</td>\n",
       "      <td>0.13046</td>\n",
       "      <td>0.12356</td>\n",
       "      <td>0.00000</td>\n",
       "      <td>0.00000</td>\n",
       "      <td>0.03109</td>\n",
       "    </tr>\n",
       "  </tbody>\n",
       "</table>\n",
       "<p>5 rows × 80 columns</p>\n",
       "</div>"
      ],
      "text/plain": [
       "      UID  BLOCKID  SUMLEVEL  COUNTYID  STATEID        state state_ab  \\\n",
       "0  267822      NaN       140        53       36     New York       NY   \n",
       "1  246444      NaN       140       141       18      Indiana       IN   \n",
       "2  245683      NaN       140        63       18      Indiana       IN   \n",
       "3  279653      NaN       140       127       72  Puerto Rico       PR   \n",
       "4  247218      NaN       140       161       20       Kansas       KS   \n",
       "\n",
       "         city           place   type  ... female_age_mean  female_age_median  \\\n",
       "0    Hamilton        Hamilton   City  ...        44.48629           45.33333   \n",
       "1  South Bend        Roseland   City  ...        36.48391           37.58333   \n",
       "2    Danville        Danville   City  ...        42.15810           42.83333   \n",
       "3    San Juan        Guaynabo  Urban  ...        47.77526           50.58333   \n",
       "4   Manhattan  Manhattan City   City  ...        24.17693           21.58333   \n",
       "\n",
       "   female_age_stdev  female_age_sample_weight  female_age_samples  pct_own  \\\n",
       "0          22.51276                 685.33845              2618.0  0.79046   \n",
       "1          23.43353                 267.23367              1284.0  0.52483   \n",
       "2          23.94119                 707.01963              3238.0  0.85331   \n",
       "3          24.32015                 362.20193              1559.0  0.65037   \n",
       "4          11.10484                1854.48652              3051.0  0.13046   \n",
       "\n",
       "   married  married_snp  separated  divorced  \n",
       "0  0.57851      0.01882    0.01240   0.08770  \n",
       "1  0.34886      0.01426    0.01426   0.09030  \n",
       "2  0.64745      0.02830    0.01607   0.10657  \n",
       "3  0.47257      0.02021    0.02021   0.10106  \n",
       "4  0.12356      0.00000    0.00000   0.03109  \n",
       "\n",
       "[5 rows x 80 columns]"
      ]
     },
     "execution_count": 95,
     "metadata": {},
     "output_type": "execute_result"
    }
   ],
   "source": [
    "train.head()"
   ]
  },
  {
   "cell_type": "code",
   "execution_count": 96,
   "metadata": {},
   "outputs": [
    {
     "data": {
      "text/plain": [
       "Index(['UID', 'BLOCKID', 'SUMLEVEL', 'COUNTYID', 'STATEID', 'state',\n",
       "       'state_ab', 'city', 'place', 'type', 'primary', 'zip_code', 'area_code',\n",
       "       'lat', 'lng', 'ALand', 'AWater', 'pop', 'male_pop', 'female_pop',\n",
       "       'rent_mean', 'rent_median', 'rent_stdev', 'rent_sample_weight',\n",
       "       'rent_samples', 'rent_gt_10', 'rent_gt_15', 'rent_gt_20', 'rent_gt_25',\n",
       "       'rent_gt_30', 'rent_gt_35', 'rent_gt_40', 'rent_gt_50',\n",
       "       'universe_samples', 'used_samples', 'hi_mean', 'hi_median', 'hi_stdev',\n",
       "       'hi_sample_weight', 'hi_samples', 'family_mean', 'family_median',\n",
       "       'family_stdev', 'family_sample_weight', 'family_samples',\n",
       "       'hc_mortgage_mean', 'hc_mortgage_median', 'hc_mortgage_stdev',\n",
       "       'hc_mortgage_sample_weight', 'hc_mortgage_samples', 'hc_mean',\n",
       "       'hc_median', 'hc_stdev', 'hc_samples', 'hc_sample_weight',\n",
       "       'home_equity_second_mortgage', 'second_mortgage', 'home_equity', 'debt',\n",
       "       'second_mortgage_cdf', 'home_equity_cdf', 'debt_cdf', 'hs_degree',\n",
       "       'hs_degree_male', 'hs_degree_female', 'male_age_mean',\n",
       "       'male_age_median', 'male_age_stdev', 'male_age_sample_weight',\n",
       "       'male_age_samples', 'female_age_mean', 'female_age_median',\n",
       "       'female_age_stdev', 'female_age_sample_weight', 'female_age_samples',\n",
       "       'pct_own', 'married', 'married_snp', 'separated', 'divorced'],\n",
       "      dtype='object')"
      ]
     },
     "execution_count": 96,
     "metadata": {},
     "output_type": "execute_result"
    }
   ],
   "source": [
    "train.columns"
   ]
  },
  {
   "cell_type": "code",
   "execution_count": 97,
   "metadata": {},
   "outputs": [
    {
     "data": {
      "text/html": [
       "<div>\n",
       "<style scoped>\n",
       "    .dataframe tbody tr th:only-of-type {\n",
       "        vertical-align: middle;\n",
       "    }\n",
       "\n",
       "    .dataframe tbody tr th {\n",
       "        vertical-align: top;\n",
       "    }\n",
       "\n",
       "    .dataframe thead th {\n",
       "        text-align: right;\n",
       "    }\n",
       "</style>\n",
       "<table border=\"1\" class=\"dataframe\">\n",
       "  <thead>\n",
       "    <tr style=\"text-align: right;\">\n",
       "      <th></th>\n",
       "      <th>UID</th>\n",
       "      <th>BLOCKID</th>\n",
       "      <th>SUMLEVEL</th>\n",
       "      <th>COUNTYID</th>\n",
       "      <th>STATEID</th>\n",
       "      <th>zip_code</th>\n",
       "      <th>area_code</th>\n",
       "      <th>lat</th>\n",
       "      <th>lng</th>\n",
       "      <th>ALand</th>\n",
       "      <th>...</th>\n",
       "      <th>female_age_mean</th>\n",
       "      <th>female_age_median</th>\n",
       "      <th>female_age_stdev</th>\n",
       "      <th>female_age_sample_weight</th>\n",
       "      <th>female_age_samples</th>\n",
       "      <th>pct_own</th>\n",
       "      <th>married</th>\n",
       "      <th>married_snp</th>\n",
       "      <th>separated</th>\n",
       "      <th>divorced</th>\n",
       "    </tr>\n",
       "  </thead>\n",
       "  <tbody>\n",
       "    <tr>\n",
       "      <th>count</th>\n",
       "      <td>27321.000000</td>\n",
       "      <td>0.0</td>\n",
       "      <td>27321.0</td>\n",
       "      <td>27321.000000</td>\n",
       "      <td>27321.000000</td>\n",
       "      <td>27321.000000</td>\n",
       "      <td>27321.000000</td>\n",
       "      <td>27321.000000</td>\n",
       "      <td>27321.000000</td>\n",
       "      <td>2.732100e+04</td>\n",
       "      <td>...</td>\n",
       "      <td>27115.000000</td>\n",
       "      <td>27115.000000</td>\n",
       "      <td>27115.000000</td>\n",
       "      <td>27115.000000</td>\n",
       "      <td>27115.000000</td>\n",
       "      <td>27053.000000</td>\n",
       "      <td>27130.000000</td>\n",
       "      <td>27130.000000</td>\n",
       "      <td>27130.000000</td>\n",
       "      <td>27130.000000</td>\n",
       "    </tr>\n",
       "    <tr>\n",
       "      <th>mean</th>\n",
       "      <td>257331.996303</td>\n",
       "      <td>NaN</td>\n",
       "      <td>140.0</td>\n",
       "      <td>85.646426</td>\n",
       "      <td>28.271806</td>\n",
       "      <td>50081.999524</td>\n",
       "      <td>596.507668</td>\n",
       "      <td>37.508813</td>\n",
       "      <td>-91.288394</td>\n",
       "      <td>1.295106e+08</td>\n",
       "      <td>...</td>\n",
       "      <td>40.319803</td>\n",
       "      <td>40.355099</td>\n",
       "      <td>22.178745</td>\n",
       "      <td>544.238432</td>\n",
       "      <td>2208.761903</td>\n",
       "      <td>0.640434</td>\n",
       "      <td>0.508300</td>\n",
       "      <td>0.047537</td>\n",
       "      <td>0.019089</td>\n",
       "      <td>0.100248</td>\n",
       "    </tr>\n",
       "    <tr>\n",
       "      <th>std</th>\n",
       "      <td>21343.859725</td>\n",
       "      <td>NaN</td>\n",
       "      <td>0.0</td>\n",
       "      <td>98.333097</td>\n",
       "      <td>16.392846</td>\n",
       "      <td>29558.115660</td>\n",
       "      <td>232.497482</td>\n",
       "      <td>5.588268</td>\n",
       "      <td>16.343816</td>\n",
       "      <td>1.275531e+09</td>\n",
       "      <td>...</td>\n",
       "      <td>5.886317</td>\n",
       "      <td>8.039585</td>\n",
       "      <td>2.540257</td>\n",
       "      <td>283.546896</td>\n",
       "      <td>1089.316999</td>\n",
       "      <td>0.226640</td>\n",
       "      <td>0.136860</td>\n",
       "      <td>0.037640</td>\n",
       "      <td>0.020796</td>\n",
       "      <td>0.049055</td>\n",
       "    </tr>\n",
       "    <tr>\n",
       "      <th>min</th>\n",
       "      <td>220342.000000</td>\n",
       "      <td>NaN</td>\n",
       "      <td>140.0</td>\n",
       "      <td>1.000000</td>\n",
       "      <td>1.000000</td>\n",
       "      <td>602.000000</td>\n",
       "      <td>201.000000</td>\n",
       "      <td>17.929085</td>\n",
       "      <td>-165.453872</td>\n",
       "      <td>4.113400e+04</td>\n",
       "      <td>...</td>\n",
       "      <td>16.008330</td>\n",
       "      <td>13.250000</td>\n",
       "      <td>0.556780</td>\n",
       "      <td>0.664700</td>\n",
       "      <td>2.000000</td>\n",
       "      <td>0.000000</td>\n",
       "      <td>0.000000</td>\n",
       "      <td>0.000000</td>\n",
       "      <td>0.000000</td>\n",
       "      <td>0.000000</td>\n",
       "    </tr>\n",
       "    <tr>\n",
       "      <th>25%</th>\n",
       "      <td>238816.000000</td>\n",
       "      <td>NaN</td>\n",
       "      <td>140.0</td>\n",
       "      <td>29.000000</td>\n",
       "      <td>13.000000</td>\n",
       "      <td>26554.000000</td>\n",
       "      <td>405.000000</td>\n",
       "      <td>33.899064</td>\n",
       "      <td>-97.816067</td>\n",
       "      <td>1.799408e+06</td>\n",
       "      <td>...</td>\n",
       "      <td>36.892050</td>\n",
       "      <td>34.916670</td>\n",
       "      <td>21.312135</td>\n",
       "      <td>355.995825</td>\n",
       "      <td>1471.000000</td>\n",
       "      <td>0.502780</td>\n",
       "      <td>0.425102</td>\n",
       "      <td>0.020810</td>\n",
       "      <td>0.004530</td>\n",
       "      <td>0.065800</td>\n",
       "    </tr>\n",
       "    <tr>\n",
       "      <th>50%</th>\n",
       "      <td>257220.000000</td>\n",
       "      <td>NaN</td>\n",
       "      <td>140.0</td>\n",
       "      <td>63.000000</td>\n",
       "      <td>28.000000</td>\n",
       "      <td>47715.000000</td>\n",
       "      <td>614.000000</td>\n",
       "      <td>38.755183</td>\n",
       "      <td>-86.554374</td>\n",
       "      <td>4.866940e+06</td>\n",
       "      <td>...</td>\n",
       "      <td>40.373320</td>\n",
       "      <td>40.583330</td>\n",
       "      <td>22.514410</td>\n",
       "      <td>503.643890</td>\n",
       "      <td>2066.000000</td>\n",
       "      <td>0.690840</td>\n",
       "      <td>0.526665</td>\n",
       "      <td>0.038840</td>\n",
       "      <td>0.013460</td>\n",
       "      <td>0.095205</td>\n",
       "    </tr>\n",
       "    <tr>\n",
       "      <th>75%</th>\n",
       "      <td>275818.000000</td>\n",
       "      <td>NaN</td>\n",
       "      <td>140.0</td>\n",
       "      <td>109.000000</td>\n",
       "      <td>42.000000</td>\n",
       "      <td>77093.000000</td>\n",
       "      <td>801.000000</td>\n",
       "      <td>41.380606</td>\n",
       "      <td>-79.782503</td>\n",
       "      <td>3.359820e+07</td>\n",
       "      <td>...</td>\n",
       "      <td>43.567120</td>\n",
       "      <td>45.416670</td>\n",
       "      <td>23.575260</td>\n",
       "      <td>680.275055</td>\n",
       "      <td>2772.000000</td>\n",
       "      <td>0.817460</td>\n",
       "      <td>0.605760</td>\n",
       "      <td>0.065100</td>\n",
       "      <td>0.027487</td>\n",
       "      <td>0.129000</td>\n",
       "    </tr>\n",
       "    <tr>\n",
       "      <th>max</th>\n",
       "      <td>294334.000000</td>\n",
       "      <td>NaN</td>\n",
       "      <td>140.0</td>\n",
       "      <td>840.000000</td>\n",
       "      <td>72.000000</td>\n",
       "      <td>99925.000000</td>\n",
       "      <td>989.000000</td>\n",
       "      <td>67.074018</td>\n",
       "      <td>-65.379332</td>\n",
       "      <td>1.039510e+11</td>\n",
       "      <td>...</td>\n",
       "      <td>79.837390</td>\n",
       "      <td>82.250000</td>\n",
       "      <td>30.241270</td>\n",
       "      <td>6197.995200</td>\n",
       "      <td>27250.000000</td>\n",
       "      <td>1.000000</td>\n",
       "      <td>1.000000</td>\n",
       "      <td>0.714290</td>\n",
       "      <td>0.714290</td>\n",
       "      <td>1.000000</td>\n",
       "    </tr>\n",
       "  </tbody>\n",
       "</table>\n",
       "<p>8 rows × 74 columns</p>\n",
       "</div>"
      ],
      "text/plain": [
       "                 UID  BLOCKID  SUMLEVEL      COUNTYID       STATEID  \\\n",
       "count   27321.000000      0.0   27321.0  27321.000000  27321.000000   \n",
       "mean   257331.996303      NaN     140.0     85.646426     28.271806   \n",
       "std     21343.859725      NaN       0.0     98.333097     16.392846   \n",
       "min    220342.000000      NaN     140.0      1.000000      1.000000   \n",
       "25%    238816.000000      NaN     140.0     29.000000     13.000000   \n",
       "50%    257220.000000      NaN     140.0     63.000000     28.000000   \n",
       "75%    275818.000000      NaN     140.0    109.000000     42.000000   \n",
       "max    294334.000000      NaN     140.0    840.000000     72.000000   \n",
       "\n",
       "           zip_code     area_code           lat           lng         ALand  \\\n",
       "count  27321.000000  27321.000000  27321.000000  27321.000000  2.732100e+04   \n",
       "mean   50081.999524    596.507668     37.508813    -91.288394  1.295106e+08   \n",
       "std    29558.115660    232.497482      5.588268     16.343816  1.275531e+09   \n",
       "min      602.000000    201.000000     17.929085   -165.453872  4.113400e+04   \n",
       "25%    26554.000000    405.000000     33.899064    -97.816067  1.799408e+06   \n",
       "50%    47715.000000    614.000000     38.755183    -86.554374  4.866940e+06   \n",
       "75%    77093.000000    801.000000     41.380606    -79.782503  3.359820e+07   \n",
       "max    99925.000000    989.000000     67.074018    -65.379332  1.039510e+11   \n",
       "\n",
       "       ...  female_age_mean  female_age_median  female_age_stdev  \\\n",
       "count  ...     27115.000000       27115.000000      27115.000000   \n",
       "mean   ...        40.319803          40.355099         22.178745   \n",
       "std    ...         5.886317           8.039585          2.540257   \n",
       "min    ...        16.008330          13.250000          0.556780   \n",
       "25%    ...        36.892050          34.916670         21.312135   \n",
       "50%    ...        40.373320          40.583330         22.514410   \n",
       "75%    ...        43.567120          45.416670         23.575260   \n",
       "max    ...        79.837390          82.250000         30.241270   \n",
       "\n",
       "       female_age_sample_weight  female_age_samples       pct_own  \\\n",
       "count              27115.000000        27115.000000  27053.000000   \n",
       "mean                 544.238432         2208.761903      0.640434   \n",
       "std                  283.546896         1089.316999      0.226640   \n",
       "min                    0.664700            2.000000      0.000000   \n",
       "25%                  355.995825         1471.000000      0.502780   \n",
       "50%                  503.643890         2066.000000      0.690840   \n",
       "75%                  680.275055         2772.000000      0.817460   \n",
       "max                 6197.995200        27250.000000      1.000000   \n",
       "\n",
       "            married   married_snp     separated      divorced  \n",
       "count  27130.000000  27130.000000  27130.000000  27130.000000  \n",
       "mean       0.508300      0.047537      0.019089      0.100248  \n",
       "std        0.136860      0.037640      0.020796      0.049055  \n",
       "min        0.000000      0.000000      0.000000      0.000000  \n",
       "25%        0.425102      0.020810      0.004530      0.065800  \n",
       "50%        0.526665      0.038840      0.013460      0.095205  \n",
       "75%        0.605760      0.065100      0.027487      0.129000  \n",
       "max        1.000000      0.714290      0.714290      1.000000  \n",
       "\n",
       "[8 rows x 74 columns]"
      ]
     },
     "execution_count": 97,
     "metadata": {},
     "output_type": "execute_result"
    }
   ],
   "source": [
    "train.describe()"
   ]
  },
  {
   "cell_type": "code",
   "execution_count": 98,
   "metadata": {},
   "outputs": [
    {
     "name": "stdout",
     "output_type": "stream",
     "text": [
      "<class 'pandas.core.frame.DataFrame'>\n",
      "RangeIndex: 27321 entries, 0 to 27320\n",
      "Data columns (total 80 columns):\n",
      " #   Column                       Non-Null Count  Dtype  \n",
      "---  ------                       --------------  -----  \n",
      " 0   UID                          27321 non-null  int64  \n",
      " 1   BLOCKID                      0 non-null      float64\n",
      " 2   SUMLEVEL                     27321 non-null  int64  \n",
      " 3   COUNTYID                     27321 non-null  int64  \n",
      " 4   STATEID                      27321 non-null  int64  \n",
      " 5   state                        27321 non-null  object \n",
      " 6   state_ab                     27321 non-null  object \n",
      " 7   city                         27321 non-null  object \n",
      " 8   place                        27321 non-null  object \n",
      " 9   type                         27321 non-null  object \n",
      " 10  primary                      27321 non-null  object \n",
      " 11  zip_code                     27321 non-null  int64  \n",
      " 12  area_code                    27321 non-null  int64  \n",
      " 13  lat                          27321 non-null  float64\n",
      " 14  lng                          27321 non-null  float64\n",
      " 15  ALand                        27321 non-null  float64\n",
      " 16  AWater                       27321 non-null  int64  \n",
      " 17  pop                          27321 non-null  int64  \n",
      " 18  male_pop                     27321 non-null  int64  \n",
      " 19  female_pop                   27321 non-null  int64  \n",
      " 20  rent_mean                    27007 non-null  float64\n",
      " 21  rent_median                  27007 non-null  float64\n",
      " 22  rent_stdev                   27007 non-null  float64\n",
      " 23  rent_sample_weight           27007 non-null  float64\n",
      " 24  rent_samples                 27007 non-null  float64\n",
      " 25  rent_gt_10                   27007 non-null  float64\n",
      " 26  rent_gt_15                   27007 non-null  float64\n",
      " 27  rent_gt_20                   27007 non-null  float64\n",
      " 28  rent_gt_25                   27007 non-null  float64\n",
      " 29  rent_gt_30                   27007 non-null  float64\n",
      " 30  rent_gt_35                   27007 non-null  float64\n",
      " 31  rent_gt_40                   27007 non-null  float64\n",
      " 32  rent_gt_50                   27007 non-null  float64\n",
      " 33  universe_samples             27321 non-null  int64  \n",
      " 34  used_samples                 27321 non-null  int64  \n",
      " 35  hi_mean                      27053 non-null  float64\n",
      " 36  hi_median                    27053 non-null  float64\n",
      " 37  hi_stdev                     27053 non-null  float64\n",
      " 38  hi_sample_weight             27053 non-null  float64\n",
      " 39  hi_samples                   27053 non-null  float64\n",
      " 40  family_mean                  27023 non-null  float64\n",
      " 41  family_median                27023 non-null  float64\n",
      " 42  family_stdev                 27023 non-null  float64\n",
      " 43  family_sample_weight         27023 non-null  float64\n",
      " 44  family_samples               27023 non-null  float64\n",
      " 45  hc_mortgage_mean             26748 non-null  float64\n",
      " 46  hc_mortgage_median           26748 non-null  float64\n",
      " 47  hc_mortgage_stdev            26748 non-null  float64\n",
      " 48  hc_mortgage_sample_weight    26748 non-null  float64\n",
      " 49  hc_mortgage_samples          26748 non-null  float64\n",
      " 50  hc_mean                      26721 non-null  float64\n",
      " 51  hc_median                    26721 non-null  float64\n",
      " 52  hc_stdev                     26721 non-null  float64\n",
      " 53  hc_samples                   26721 non-null  float64\n",
      " 54  hc_sample_weight             26721 non-null  float64\n",
      " 55  home_equity_second_mortgage  26864 non-null  float64\n",
      " 56  second_mortgage              26864 non-null  float64\n",
      " 57  home_equity                  26864 non-null  float64\n",
      " 58  debt                         26864 non-null  float64\n",
      " 59  second_mortgage_cdf          26864 non-null  float64\n",
      " 60  home_equity_cdf              26864 non-null  float64\n",
      " 61  debt_cdf                     26864 non-null  float64\n",
      " 62  hs_degree                    27131 non-null  float64\n",
      " 63  hs_degree_male               27121 non-null  float64\n",
      " 64  hs_degree_female             27098 non-null  float64\n",
      " 65  male_age_mean                27132 non-null  float64\n",
      " 66  male_age_median              27132 non-null  float64\n",
      " 67  male_age_stdev               27132 non-null  float64\n",
      " 68  male_age_sample_weight       27132 non-null  float64\n",
      " 69  male_age_samples             27132 non-null  float64\n",
      " 70  female_age_mean              27115 non-null  float64\n",
      " 71  female_age_median            27115 non-null  float64\n",
      " 72  female_age_stdev             27115 non-null  float64\n",
      " 73  female_age_sample_weight     27115 non-null  float64\n",
      " 74  female_age_samples           27115 non-null  float64\n",
      " 75  pct_own                      27053 non-null  float64\n",
      " 76  married                      27130 non-null  float64\n",
      " 77  married_snp                  27130 non-null  float64\n",
      " 78  separated                    27130 non-null  float64\n",
      " 79  divorced                     27130 non-null  float64\n",
      "dtypes: float64(62), int64(12), object(6)\n",
      "memory usage: 16.7+ MB\n"
     ]
    }
   ],
   "source": [
    "train.info()"
   ]
  },
  {
   "cell_type": "code",
   "execution_count": 99,
   "metadata": {},
   "outputs": [
    {
     "name": "stdout",
     "output_type": "stream",
     "text": [
      "<class 'pandas.core.frame.DataFrame'>\n",
      "RangeIndex: 11709 entries, 0 to 11708\n",
      "Data columns (total 80 columns):\n",
      " #   Column                       Non-Null Count  Dtype  \n",
      "---  ------                       --------------  -----  \n",
      " 0   UID                          11709 non-null  int64  \n",
      " 1   BLOCKID                      0 non-null      float64\n",
      " 2   SUMLEVEL                     11709 non-null  int64  \n",
      " 3   COUNTYID                     11709 non-null  int64  \n",
      " 4   STATEID                      11709 non-null  int64  \n",
      " 5   state                        11709 non-null  object \n",
      " 6   state_ab                     11709 non-null  object \n",
      " 7   city                         11709 non-null  object \n",
      " 8   place                        11709 non-null  object \n",
      " 9   type                         11709 non-null  object \n",
      " 10  primary                      11709 non-null  object \n",
      " 11  zip_code                     11709 non-null  int64  \n",
      " 12  area_code                    11709 non-null  int64  \n",
      " 13  lat                          11709 non-null  float64\n",
      " 14  lng                          11709 non-null  float64\n",
      " 15  ALand                        11709 non-null  int64  \n",
      " 16  AWater                       11709 non-null  int64  \n",
      " 17  pop                          11709 non-null  int64  \n",
      " 18  male_pop                     11709 non-null  int64  \n",
      " 19  female_pop                   11709 non-null  int64  \n",
      " 20  rent_mean                    11561 non-null  float64\n",
      " 21  rent_median                  11561 non-null  float64\n",
      " 22  rent_stdev                   11561 non-null  float64\n",
      " 23  rent_sample_weight           11561 non-null  float64\n",
      " 24  rent_samples                 11561 non-null  float64\n",
      " 25  rent_gt_10                   11560 non-null  float64\n",
      " 26  rent_gt_15                   11560 non-null  float64\n",
      " 27  rent_gt_20                   11560 non-null  float64\n",
      " 28  rent_gt_25                   11560 non-null  float64\n",
      " 29  rent_gt_30                   11560 non-null  float64\n",
      " 30  rent_gt_35                   11560 non-null  float64\n",
      " 31  rent_gt_40                   11560 non-null  float64\n",
      " 32  rent_gt_50                   11560 non-null  float64\n",
      " 33  universe_samples             11709 non-null  int64  \n",
      " 34  used_samples                 11709 non-null  int64  \n",
      " 35  hi_mean                      11587 non-null  float64\n",
      " 36  hi_median                    11587 non-null  float64\n",
      " 37  hi_stdev                     11587 non-null  float64\n",
      " 38  hi_sample_weight             11587 non-null  float64\n",
      " 39  hi_samples                   11587 non-null  float64\n",
      " 40  family_mean                  11573 non-null  float64\n",
      " 41  family_median                11573 non-null  float64\n",
      " 42  family_stdev                 11573 non-null  float64\n",
      " 43  family_sample_weight         11573 non-null  float64\n",
      " 44  family_samples               11573 non-null  float64\n",
      " 45  hc_mortgage_mean             11441 non-null  float64\n",
      " 46  hc_mortgage_median           11441 non-null  float64\n",
      " 47  hc_mortgage_stdev            11441 non-null  float64\n",
      " 48  hc_mortgage_sample_weight    11441 non-null  float64\n",
      " 49  hc_mortgage_samples          11441 non-null  float64\n",
      " 50  hc_mean                      11419 non-null  float64\n",
      " 51  hc_median                    11419 non-null  float64\n",
      " 52  hc_stdev                     11419 non-null  float64\n",
      " 53  hc_samples                   11419 non-null  float64\n",
      " 54  hc_sample_weight             11419 non-null  float64\n",
      " 55  home_equity_second_mortgage  11489 non-null  float64\n",
      " 56  second_mortgage              11489 non-null  float64\n",
      " 57  home_equity                  11489 non-null  float64\n",
      " 58  debt                         11489 non-null  float64\n",
      " 59  second_mortgage_cdf          11489 non-null  float64\n",
      " 60  home_equity_cdf              11489 non-null  float64\n",
      " 61  debt_cdf                     11489 non-null  float64\n",
      " 62  hs_degree                    11624 non-null  float64\n",
      " 63  hs_degree_male               11620 non-null  float64\n",
      " 64  hs_degree_female             11604 non-null  float64\n",
      " 65  male_age_mean                11625 non-null  float64\n",
      " 66  male_age_median              11625 non-null  float64\n",
      " 67  male_age_stdev               11625 non-null  float64\n",
      " 68  male_age_sample_weight       11625 non-null  float64\n",
      " 69  male_age_samples             11625 non-null  float64\n",
      " 70  female_age_mean              11613 non-null  float64\n",
      " 71  female_age_median            11613 non-null  float64\n",
      " 72  female_age_stdev             11613 non-null  float64\n",
      " 73  female_age_sample_weight     11613 non-null  float64\n",
      " 74  female_age_samples           11613 non-null  float64\n",
      " 75  pct_own                      11587 non-null  float64\n",
      " 76  married                      11625 non-null  float64\n",
      " 77  married_snp                  11625 non-null  float64\n",
      " 78  separated                    11625 non-null  float64\n",
      " 79  divorced                     11625 non-null  float64\n",
      "dtypes: float64(61), int64(13), object(6)\n",
      "memory usage: 7.1+ MB\n"
     ]
    }
   ],
   "source": [
    "test.info()"
   ]
  },
  {
   "cell_type": "code",
   "execution_count": 100,
   "metadata": {},
   "outputs": [],
   "source": [
    "##Figure out the primary key and look for the requirement of indexing.\n",
    "#make UID as index"
   ]
  },
  {
   "cell_type": "code",
   "execution_count": 101,
   "metadata": {},
   "outputs": [],
   "source": [
    "train.set_index(keys=['UID'],inplace=True)"
   ]
  },
  {
   "cell_type": "code",
   "execution_count": 102,
   "metadata": {},
   "outputs": [],
   "source": [
    "test.set_index(keys=['UID'],inplace=True)"
   ]
  },
  {
   "cell_type": "code",
   "execution_count": 103,
   "metadata": {},
   "outputs": [
    {
     "data": {
      "text/html": [
       "<div>\n",
       "<style scoped>\n",
       "    .dataframe tbody tr th:only-of-type {\n",
       "        vertical-align: middle;\n",
       "    }\n",
       "\n",
       "    .dataframe tbody tr th {\n",
       "        vertical-align: top;\n",
       "    }\n",
       "\n",
       "    .dataframe thead th {\n",
       "        text-align: right;\n",
       "    }\n",
       "</style>\n",
       "<table border=\"1\" class=\"dataframe\">\n",
       "  <thead>\n",
       "    <tr style=\"text-align: right;\">\n",
       "      <th></th>\n",
       "      <th>BLOCKID</th>\n",
       "      <th>SUMLEVEL</th>\n",
       "      <th>COUNTYID</th>\n",
       "      <th>STATEID</th>\n",
       "      <th>state</th>\n",
       "      <th>state_ab</th>\n",
       "      <th>city</th>\n",
       "      <th>place</th>\n",
       "      <th>type</th>\n",
       "      <th>primary</th>\n",
       "      <th>...</th>\n",
       "      <th>female_age_mean</th>\n",
       "      <th>female_age_median</th>\n",
       "      <th>female_age_stdev</th>\n",
       "      <th>female_age_sample_weight</th>\n",
       "      <th>female_age_samples</th>\n",
       "      <th>pct_own</th>\n",
       "      <th>married</th>\n",
       "      <th>married_snp</th>\n",
       "      <th>separated</th>\n",
       "      <th>divorced</th>\n",
       "    </tr>\n",
       "    <tr>\n",
       "      <th>UID</th>\n",
       "      <th></th>\n",
       "      <th></th>\n",
       "      <th></th>\n",
       "      <th></th>\n",
       "      <th></th>\n",
       "      <th></th>\n",
       "      <th></th>\n",
       "      <th></th>\n",
       "      <th></th>\n",
       "      <th></th>\n",
       "      <th></th>\n",
       "      <th></th>\n",
       "      <th></th>\n",
       "      <th></th>\n",
       "      <th></th>\n",
       "      <th></th>\n",
       "      <th></th>\n",
       "      <th></th>\n",
       "      <th></th>\n",
       "      <th></th>\n",
       "      <th></th>\n",
       "    </tr>\n",
       "  </thead>\n",
       "  <tbody>\n",
       "    <tr>\n",
       "      <th>255504</th>\n",
       "      <td>NaN</td>\n",
       "      <td>140</td>\n",
       "      <td>163</td>\n",
       "      <td>26</td>\n",
       "      <td>Michigan</td>\n",
       "      <td>MI</td>\n",
       "      <td>Detroit</td>\n",
       "      <td>Dearborn Heights City</td>\n",
       "      <td>CDP</td>\n",
       "      <td>tract</td>\n",
       "      <td>...</td>\n",
       "      <td>34.78682</td>\n",
       "      <td>33.75000</td>\n",
       "      <td>21.58531</td>\n",
       "      <td>416.48097</td>\n",
       "      <td>1938.0</td>\n",
       "      <td>0.70252</td>\n",
       "      <td>0.28217</td>\n",
       "      <td>0.05910</td>\n",
       "      <td>0.03813</td>\n",
       "      <td>0.14299</td>\n",
       "    </tr>\n",
       "    <tr>\n",
       "      <th>252676</th>\n",
       "      <td>NaN</td>\n",
       "      <td>140</td>\n",
       "      <td>1</td>\n",
       "      <td>23</td>\n",
       "      <td>Maine</td>\n",
       "      <td>ME</td>\n",
       "      <td>Auburn</td>\n",
       "      <td>Auburn City</td>\n",
       "      <td>City</td>\n",
       "      <td>tract</td>\n",
       "      <td>...</td>\n",
       "      <td>44.23451</td>\n",
       "      <td>46.66667</td>\n",
       "      <td>22.37036</td>\n",
       "      <td>532.03505</td>\n",
       "      <td>1950.0</td>\n",
       "      <td>0.85128</td>\n",
       "      <td>0.64221</td>\n",
       "      <td>0.02338</td>\n",
       "      <td>0.00000</td>\n",
       "      <td>0.13377</td>\n",
       "    </tr>\n",
       "    <tr>\n",
       "      <th>276314</th>\n",
       "      <td>NaN</td>\n",
       "      <td>140</td>\n",
       "      <td>15</td>\n",
       "      <td>42</td>\n",
       "      <td>Pennsylvania</td>\n",
       "      <td>PA</td>\n",
       "      <td>Pine City</td>\n",
       "      <td>Millerton</td>\n",
       "      <td>Borough</td>\n",
       "      <td>tract</td>\n",
       "      <td>...</td>\n",
       "      <td>41.62426</td>\n",
       "      <td>44.50000</td>\n",
       "      <td>22.86213</td>\n",
       "      <td>453.11959</td>\n",
       "      <td>1879.0</td>\n",
       "      <td>0.81897</td>\n",
       "      <td>0.59961</td>\n",
       "      <td>0.01746</td>\n",
       "      <td>0.01358</td>\n",
       "      <td>0.10026</td>\n",
       "    </tr>\n",
       "    <tr>\n",
       "      <th>248614</th>\n",
       "      <td>NaN</td>\n",
       "      <td>140</td>\n",
       "      <td>231</td>\n",
       "      <td>21</td>\n",
       "      <td>Kentucky</td>\n",
       "      <td>KY</td>\n",
       "      <td>Monticello</td>\n",
       "      <td>Monticello City</td>\n",
       "      <td>City</td>\n",
       "      <td>tract</td>\n",
       "      <td>...</td>\n",
       "      <td>44.81200</td>\n",
       "      <td>48.00000</td>\n",
       "      <td>21.03155</td>\n",
       "      <td>263.94320</td>\n",
       "      <td>1081.0</td>\n",
       "      <td>0.84609</td>\n",
       "      <td>0.56953</td>\n",
       "      <td>0.05492</td>\n",
       "      <td>0.04694</td>\n",
       "      <td>0.12489</td>\n",
       "    </tr>\n",
       "    <tr>\n",
       "      <th>286865</th>\n",
       "      <td>NaN</td>\n",
       "      <td>140</td>\n",
       "      <td>355</td>\n",
       "      <td>48</td>\n",
       "      <td>Texas</td>\n",
       "      <td>TX</td>\n",
       "      <td>Corpus Christi</td>\n",
       "      <td>Edroy</td>\n",
       "      <td>Town</td>\n",
       "      <td>tract</td>\n",
       "      <td>...</td>\n",
       "      <td>40.66618</td>\n",
       "      <td>42.66667</td>\n",
       "      <td>21.30900</td>\n",
       "      <td>709.90829</td>\n",
       "      <td>2956.0</td>\n",
       "      <td>0.79077</td>\n",
       "      <td>0.57620</td>\n",
       "      <td>0.01726</td>\n",
       "      <td>0.00588</td>\n",
       "      <td>0.16379</td>\n",
       "    </tr>\n",
       "  </tbody>\n",
       "</table>\n",
       "<p>5 rows × 79 columns</p>\n",
       "</div>"
      ],
      "text/plain": [
       "        BLOCKID  SUMLEVEL  COUNTYID  STATEID         state state_ab  \\\n",
       "UID                                                                   \n",
       "255504      NaN       140       163       26      Michigan       MI   \n",
       "252676      NaN       140         1       23         Maine       ME   \n",
       "276314      NaN       140        15       42  Pennsylvania       PA   \n",
       "248614      NaN       140       231       21      Kentucky       KY   \n",
       "286865      NaN       140       355       48         Texas       TX   \n",
       "\n",
       "                  city                  place     type primary  ...  \\\n",
       "UID                                                             ...   \n",
       "255504         Detroit  Dearborn Heights City      CDP   tract  ...   \n",
       "252676          Auburn            Auburn City     City   tract  ...   \n",
       "276314       Pine City              Millerton  Borough   tract  ...   \n",
       "248614      Monticello        Monticello City     City   tract  ...   \n",
       "286865  Corpus Christi                  Edroy     Town   tract  ...   \n",
       "\n",
       "        female_age_mean  female_age_median  female_age_stdev  \\\n",
       "UID                                                            \n",
       "255504         34.78682           33.75000          21.58531   \n",
       "252676         44.23451           46.66667          22.37036   \n",
       "276314         41.62426           44.50000          22.86213   \n",
       "248614         44.81200           48.00000          21.03155   \n",
       "286865         40.66618           42.66667          21.30900   \n",
       "\n",
       "        female_age_sample_weight  female_age_samples  pct_own  married  \\\n",
       "UID                                                                      \n",
       "255504                 416.48097              1938.0  0.70252  0.28217   \n",
       "252676                 532.03505              1950.0  0.85128  0.64221   \n",
       "276314                 453.11959              1879.0  0.81897  0.59961   \n",
       "248614                 263.94320              1081.0  0.84609  0.56953   \n",
       "286865                 709.90829              2956.0  0.79077  0.57620   \n",
       "\n",
       "        married_snp  separated  divorced  \n",
       "UID                                       \n",
       "255504      0.05910    0.03813   0.14299  \n",
       "252676      0.02338    0.00000   0.13377  \n",
       "276314      0.01746    0.01358   0.10026  \n",
       "248614      0.05492    0.04694   0.12489  \n",
       "286865      0.01726    0.00588   0.16379  \n",
       "\n",
       "[5 rows x 79 columns]"
      ]
     },
     "execution_count": 103,
     "metadata": {},
     "output_type": "execute_result"
    }
   ],
   "source": [
    "test.head()"
   ]
  },
  {
   "cell_type": "code",
   "execution_count": 104,
   "metadata": {},
   "outputs": [],
   "source": [
    "##Gauge the fill rate of variables and devise plan for missing value treatemnt.please explain explicitly the reason for the treatment.chosen for varibales"
   ]
  },
  {
   "cell_type": "code",
   "execution_count": 105,
   "metadata": {},
   "outputs": [
    {
     "data": {
      "text/plain": [
       "True"
      ]
     },
     "execution_count": 105,
     "metadata": {},
     "output_type": "execute_result"
    }
   ],
   "source": [
    "train.isna().sum().any()"
   ]
  },
  {
   "cell_type": "code",
   "execution_count": 106,
   "metadata": {},
   "outputs": [
    {
     "data": {
      "text/plain": [
       "True"
      ]
     },
     "execution_count": 106,
     "metadata": {},
     "output_type": "execute_result"
    }
   ],
   "source": [
    "test.isna().sum().any()"
   ]
  },
  {
   "cell_type": "code",
   "execution_count": 107,
   "metadata": {},
   "outputs": [
    {
     "data": {
      "text/plain": [
       "BLOCKID                        27321\n",
       "rent_mean                        314\n",
       "rent_median                      314\n",
       "rent_stdev                       314\n",
       "rent_sample_weight               314\n",
       "rent_samples                     314\n",
       "rent_gt_10                       314\n",
       "rent_gt_15                       314\n",
       "rent_gt_20                       314\n",
       "rent_gt_25                       314\n",
       "rent_gt_30                       314\n",
       "rent_gt_35                       314\n",
       "rent_gt_40                       314\n",
       "rent_gt_50                       314\n",
       "hi_mean                          268\n",
       "hi_median                        268\n",
       "hi_stdev                         268\n",
       "hi_sample_weight                 268\n",
       "hi_samples                       268\n",
       "family_mean                      298\n",
       "family_median                    298\n",
       "family_stdev                     298\n",
       "family_sample_weight             298\n",
       "family_samples                   298\n",
       "hc_mortgage_mean                 573\n",
       "hc_mortgage_median               573\n",
       "hc_mortgage_stdev                573\n",
       "hc_mortgage_sample_weight        573\n",
       "hc_mortgage_samples              573\n",
       "hc_mean                          600\n",
       "hc_median                        600\n",
       "hc_stdev                         600\n",
       "hc_samples                       600\n",
       "hc_sample_weight                 600\n",
       "home_equity_second_mortgage      457\n",
       "second_mortgage                  457\n",
       "home_equity                      457\n",
       "debt                             457\n",
       "second_mortgage_cdf              457\n",
       "home_equity_cdf                  457\n",
       "debt_cdf                         457\n",
       "hs_degree                        190\n",
       "hs_degree_male                   200\n",
       "hs_degree_female                 223\n",
       "male_age_mean                    189\n",
       "male_age_median                  189\n",
       "male_age_stdev                   189\n",
       "male_age_sample_weight           189\n",
       "male_age_samples                 189\n",
       "female_age_mean                  206\n",
       "female_age_median                206\n",
       "female_age_stdev                 206\n",
       "female_age_sample_weight         206\n",
       "female_age_samples               206\n",
       "pct_own                          268\n",
       "married                          191\n",
       "married_snp                      191\n",
       "separated                        191\n",
       "divorced                         191\n",
       "dtype: int64"
      ]
     },
     "execution_count": 107,
     "metadata": {},
     "output_type": "execute_result"
    }
   ],
   "source": [
    "#print the only value which we have missing values\n",
    "train.isna().sum()[test.isna().sum()>0]"
   ]
  },
  {
   "cell_type": "code",
   "execution_count": 108,
   "metadata": {},
   "outputs": [
    {
     "data": {
      "text/plain": [
       "(59,)"
      ]
     },
     "execution_count": 108,
     "metadata": {},
     "output_type": "execute_result"
    }
   ],
   "source": [
    "train.isna().sum()[test.isna().sum()>0].shape"
   ]
  },
  {
   "cell_type": "code",
   "execution_count": 109,
   "metadata": {},
   "outputs": [
    {
     "data": {
      "text/plain": [
       "(59,)"
      ]
     },
     "execution_count": 109,
     "metadata": {},
     "output_type": "execute_result"
    }
   ],
   "source": [
    "test.isna().sum()[test.isna().sum()>0].shape"
   ]
  },
  {
   "cell_type": "code",
   "execution_count": 110,
   "metadata": {},
   "outputs": [],
   "source": [
    "#calculate precentage for missing values\n",
    "precentage_train=train.isna().sum()/len(train)*100"
   ]
  },
  {
   "cell_type": "code",
   "execution_count": 111,
   "metadata": {},
   "outputs": [
    {
     "data": {
      "text/plain": [
       "BLOCKID        100.000000\n",
       "SUMLEVEL         0.000000\n",
       "COUNTYID         0.000000\n",
       "STATEID          0.000000\n",
       "state            0.000000\n",
       "                  ...    \n",
       "pct_own          0.980930\n",
       "married          0.699096\n",
       "married_snp      0.699096\n",
       "separated        0.699096\n",
       "divorced         0.699096\n",
       "Length: 79, dtype: float64"
      ]
     },
     "execution_count": 111,
     "metadata": {},
     "output_type": "execute_result"
    }
   ],
   "source": [
    "precentage_train"
   ]
  },
  {
   "cell_type": "code",
   "execution_count": 112,
   "metadata": {},
   "outputs": [],
   "source": [
    "precentage_train=pd.DataFrame(precentage_train,columns=['precentage og missing value'])"
   ]
  },
  {
   "cell_type": "code",
   "execution_count": 113,
   "metadata": {},
   "outputs": [
    {
     "data": {
      "text/html": [
       "<div>\n",
       "<style scoped>\n",
       "    .dataframe tbody tr th:only-of-type {\n",
       "        vertical-align: middle;\n",
       "    }\n",
       "\n",
       "    .dataframe tbody tr th {\n",
       "        vertical-align: top;\n",
       "    }\n",
       "\n",
       "    .dataframe thead th {\n",
       "        text-align: right;\n",
       "    }\n",
       "</style>\n",
       "<table border=\"1\" class=\"dataframe\">\n",
       "  <thead>\n",
       "    <tr style=\"text-align: right;\">\n",
       "      <th></th>\n",
       "      <th>precentage og missing value</th>\n",
       "    </tr>\n",
       "  </thead>\n",
       "  <tbody>\n",
       "    <tr>\n",
       "      <th>BLOCKID</th>\n",
       "      <td>100.000000</td>\n",
       "    </tr>\n",
       "    <tr>\n",
       "      <th>SUMLEVEL</th>\n",
       "      <td>0.000000</td>\n",
       "    </tr>\n",
       "    <tr>\n",
       "      <th>COUNTYID</th>\n",
       "      <td>0.000000</td>\n",
       "    </tr>\n",
       "    <tr>\n",
       "      <th>STATEID</th>\n",
       "      <td>0.000000</td>\n",
       "    </tr>\n",
       "    <tr>\n",
       "      <th>state</th>\n",
       "      <td>0.000000</td>\n",
       "    </tr>\n",
       "    <tr>\n",
       "      <th>...</th>\n",
       "      <td>...</td>\n",
       "    </tr>\n",
       "    <tr>\n",
       "      <th>pct_own</th>\n",
       "      <td>0.980930</td>\n",
       "    </tr>\n",
       "    <tr>\n",
       "      <th>married</th>\n",
       "      <td>0.699096</td>\n",
       "    </tr>\n",
       "    <tr>\n",
       "      <th>married_snp</th>\n",
       "      <td>0.699096</td>\n",
       "    </tr>\n",
       "    <tr>\n",
       "      <th>separated</th>\n",
       "      <td>0.699096</td>\n",
       "    </tr>\n",
       "    <tr>\n",
       "      <th>divorced</th>\n",
       "      <td>0.699096</td>\n",
       "    </tr>\n",
       "  </tbody>\n",
       "</table>\n",
       "<p>79 rows × 1 columns</p>\n",
       "</div>"
      ],
      "text/plain": [
       "             precentage og missing value\n",
       "BLOCKID                       100.000000\n",
       "SUMLEVEL                        0.000000\n",
       "COUNTYID                        0.000000\n",
       "STATEID                         0.000000\n",
       "state                           0.000000\n",
       "...                                  ...\n",
       "pct_own                         0.980930\n",
       "married                         0.699096\n",
       "married_snp                     0.699096\n",
       "separated                       0.699096\n",
       "divorced                        0.699096\n",
       "\n",
       "[79 rows x 1 columns]"
      ]
     },
     "execution_count": 113,
     "metadata": {},
     "output_type": "execute_result"
    }
   ],
   "source": [
    "precentage_train"
   ]
  },
  {
   "cell_type": "code",
   "execution_count": 114,
   "metadata": {},
   "outputs": [],
   "source": [
    "precentage_train.sort_values(by=['precentage og missing value'],inplace=True,ascending=False)"
   ]
  },
  {
   "cell_type": "code",
   "execution_count": 115,
   "metadata": {},
   "outputs": [
    {
     "data": {
      "text/html": [
       "<div>\n",
       "<style scoped>\n",
       "    .dataframe tbody tr th:only-of-type {\n",
       "        vertical-align: middle;\n",
       "    }\n",
       "\n",
       "    .dataframe tbody tr th {\n",
       "        vertical-align: top;\n",
       "    }\n",
       "\n",
       "    .dataframe thead th {\n",
       "        text-align: right;\n",
       "    }\n",
       "</style>\n",
       "<table border=\"1\" class=\"dataframe\">\n",
       "  <thead>\n",
       "    <tr style=\"text-align: right;\">\n",
       "      <th></th>\n",
       "      <th>precentage og missing value</th>\n",
       "    </tr>\n",
       "  </thead>\n",
       "  <tbody>\n",
       "    <tr>\n",
       "      <th>BLOCKID</th>\n",
       "      <td>100.000000</td>\n",
       "    </tr>\n",
       "    <tr>\n",
       "      <th>hc_samples</th>\n",
       "      <td>2.196113</td>\n",
       "    </tr>\n",
       "    <tr>\n",
       "      <th>hc_mean</th>\n",
       "      <td>2.196113</td>\n",
       "    </tr>\n",
       "    <tr>\n",
       "      <th>hc_median</th>\n",
       "      <td>2.196113</td>\n",
       "    </tr>\n",
       "    <tr>\n",
       "      <th>hc_stdev</th>\n",
       "      <td>2.196113</td>\n",
       "    </tr>\n",
       "    <tr>\n",
       "      <th>...</th>\n",
       "      <td>...</td>\n",
       "    </tr>\n",
       "    <tr>\n",
       "      <th>state</th>\n",
       "      <td>0.000000</td>\n",
       "    </tr>\n",
       "    <tr>\n",
       "      <th>zip_code</th>\n",
       "      <td>0.000000</td>\n",
       "    </tr>\n",
       "    <tr>\n",
       "      <th>city</th>\n",
       "      <td>0.000000</td>\n",
       "    </tr>\n",
       "    <tr>\n",
       "      <th>place</th>\n",
       "      <td>0.000000</td>\n",
       "    </tr>\n",
       "    <tr>\n",
       "      <th>state_ab</th>\n",
       "      <td>0.000000</td>\n",
       "    </tr>\n",
       "  </tbody>\n",
       "</table>\n",
       "<p>79 rows × 1 columns</p>\n",
       "</div>"
      ],
      "text/plain": [
       "            precentage og missing value\n",
       "BLOCKID                      100.000000\n",
       "hc_samples                     2.196113\n",
       "hc_mean                        2.196113\n",
       "hc_median                      2.196113\n",
       "hc_stdev                       2.196113\n",
       "...                                 ...\n",
       "state                          0.000000\n",
       "zip_code                       0.000000\n",
       "city                           0.000000\n",
       "place                          0.000000\n",
       "state_ab                       0.000000\n",
       "\n",
       "[79 rows x 1 columns]"
      ]
     },
     "execution_count": 115,
     "metadata": {},
     "output_type": "execute_result"
    }
   ],
   "source": [
    "precentage_train"
   ]
  },
  {
   "cell_type": "code",
   "execution_count": 116,
   "metadata": {},
   "outputs": [],
   "source": [
    "precentage_test=test.isna().sum()/len(test)*100"
   ]
  },
  {
   "cell_type": "code",
   "execution_count": 117,
   "metadata": {},
   "outputs": [],
   "source": [
    "precentage_test=pd.DataFrame(precentage_test,columns=['precentage og missing value'])"
   ]
  },
  {
   "cell_type": "code",
   "execution_count": 118,
   "metadata": {},
   "outputs": [],
   "source": [
    "precentage_test.sort_values(by=['precentage og missing value'],inplace=True,ascending=False)"
   ]
  },
  {
   "cell_type": "code",
   "execution_count": 119,
   "metadata": {},
   "outputs": [
    {
     "data": {
      "text/html": [
       "<div>\n",
       "<style scoped>\n",
       "    .dataframe tbody tr th:only-of-type {\n",
       "        vertical-align: middle;\n",
       "    }\n",
       "\n",
       "    .dataframe tbody tr th {\n",
       "        vertical-align: top;\n",
       "    }\n",
       "\n",
       "    .dataframe thead th {\n",
       "        text-align: right;\n",
       "    }\n",
       "</style>\n",
       "<table border=\"1\" class=\"dataframe\">\n",
       "  <thead>\n",
       "    <tr style=\"text-align: right;\">\n",
       "      <th></th>\n",
       "      <th>precentage og missing value</th>\n",
       "    </tr>\n",
       "  </thead>\n",
       "  <tbody>\n",
       "    <tr>\n",
       "      <th>BLOCKID</th>\n",
       "      <td>100.000000</td>\n",
       "    </tr>\n",
       "    <tr>\n",
       "      <th>hc_samples</th>\n",
       "      <td>2.476727</td>\n",
       "    </tr>\n",
       "    <tr>\n",
       "      <th>hc_mean</th>\n",
       "      <td>2.476727</td>\n",
       "    </tr>\n",
       "    <tr>\n",
       "      <th>hc_median</th>\n",
       "      <td>2.476727</td>\n",
       "    </tr>\n",
       "    <tr>\n",
       "      <th>hc_stdev</th>\n",
       "      <td>2.476727</td>\n",
       "    </tr>\n",
       "    <tr>\n",
       "      <th>...</th>\n",
       "      <td>...</td>\n",
       "    </tr>\n",
       "    <tr>\n",
       "      <th>type</th>\n",
       "      <td>0.000000</td>\n",
       "    </tr>\n",
       "    <tr>\n",
       "      <th>place</th>\n",
       "      <td>0.000000</td>\n",
       "    </tr>\n",
       "    <tr>\n",
       "      <th>city</th>\n",
       "      <td>0.000000</td>\n",
       "    </tr>\n",
       "    <tr>\n",
       "      <th>state</th>\n",
       "      <td>0.000000</td>\n",
       "    </tr>\n",
       "    <tr>\n",
       "      <th>state_ab</th>\n",
       "      <td>0.000000</td>\n",
       "    </tr>\n",
       "  </tbody>\n",
       "</table>\n",
       "<p>79 rows × 1 columns</p>\n",
       "</div>"
      ],
      "text/plain": [
       "            precentage og missing value\n",
       "BLOCKID                      100.000000\n",
       "hc_samples                     2.476727\n",
       "hc_mean                        2.476727\n",
       "hc_median                      2.476727\n",
       "hc_stdev                       2.476727\n",
       "...                                 ...\n",
       "type                           0.000000\n",
       "place                          0.000000\n",
       "city                           0.000000\n",
       "state                          0.000000\n",
       "state_ab                       0.000000\n",
       "\n",
       "[79 rows x 1 columns]"
      ]
     },
     "execution_count": 119,
     "metadata": {},
     "output_type": "execute_result"
    }
   ],
   "source": [
    "precentage_test"
   ]
  },
  {
   "cell_type": "code",
   "execution_count": 120,
   "metadata": {},
   "outputs": [],
   "source": [
    "#Dropping block id and sumlevel\n",
    "train.drop(columns=['BLOCKID','SUMLEVEL'],inplace=True)"
   ]
  },
  {
   "cell_type": "code",
   "execution_count": 121,
   "metadata": {},
   "outputs": [],
   "source": [
    "test.drop(columns=['BLOCKID','SUMLEVEL'],inplace=True)"
   ]
  },
  {
   "cell_type": "code",
   "execution_count": 122,
   "metadata": {},
   "outputs": [],
   "source": [
    "#colums in train data which are missing values\n",
    "missing_value_train=[]\n",
    "for col in train.columns:\n",
    "    if train[col].isna().sum()!=0:\n",
    "        missing_value_train.append(col)\n",
    "    "
   ]
  },
  {
   "cell_type": "code",
   "execution_count": 123,
   "metadata": {},
   "outputs": [],
   "source": [
    "missing_values_test=[]\n",
    "for col in test.columns:\n",
    "    if test[col].isna().sum()!=0:\n",
    "        missing_values_test.append(col)"
   ]
  },
  {
   "cell_type": "code",
   "execution_count": 124,
   "metadata": {},
   "outputs": [],
   "source": [
    "for col in train.columns:\n",
    "    if col in (missing_value_train):\n",
    "        train[col].replace(np.nan,train[col].mean(),inplace=True)"
   ]
  },
  {
   "cell_type": "code",
   "execution_count": 125,
   "metadata": {},
   "outputs": [],
   "source": [
    "for col in test.columns:\n",
    "    if col in (missing_values_test):\n",
    "        test[col].replace(np.nan,test[col].mean(),inplace=True)"
   ]
  },
  {
   "cell_type": "code",
   "execution_count": 126,
   "metadata": {},
   "outputs": [
    {
     "data": {
      "text/plain": [
       "False"
      ]
     },
     "execution_count": 126,
     "metadata": {},
     "output_type": "execute_result"
    }
   ],
   "source": [
    "train.isna().sum().any()"
   ]
  },
  {
   "cell_type": "code",
   "execution_count": 127,
   "metadata": {},
   "outputs": [
    {
     "data": {
      "text/plain": [
       "False"
      ]
     },
     "execution_count": 127,
     "metadata": {},
     "output_type": "execute_result"
    }
   ],
   "source": [
    "test.isna().sum().any()"
   ]
  },
  {
   "cell_type": "code",
   "execution_count": 128,
   "metadata": {},
   "outputs": [],
   "source": [
    "##Exploratory Data Analysis (EDA)\n",
    "#Explore the top 2,500 locations where the percentage of households with a second mortgage is the highest and percent ownership is above 10 percent. \n",
    "#Visualize using geo-map. You may keep the upper limit for the percent of households with a second mortgage to 50 percent"
   ]
  },
  {
   "cell_type": "code",
   "execution_count": 129,
   "metadata": {},
   "outputs": [
    {
     "name": "stdout",
     "output_type": "stream",
     "text": [
      "Defaulting to user installation because normal site-packages is not writeable\n",
      "Requirement already satisfied: pandasql in /home/labsuser/.local/lib/python3.7/site-packages (0.7.3)\n",
      "Requirement already satisfied: sqlalchemy in /usr/local/lib/python3.7/site-packages (from pandasql) (1.3.15)\n",
      "Requirement already satisfied: numpy in /usr/local/lib/python3.7/site-packages (from pandasql) (1.21.5)\n",
      "Requirement already satisfied: pandas in /usr/local/lib/python3.7/site-packages (from pandasql) (1.1.5)\n",
      "Requirement already satisfied: python-dateutil>=2.7.3 in /usr/local/lib/python3.7/site-packages (from pandas->pandasql) (2.8.1)\n",
      "Requirement already satisfied: pytz>=2017.2 in /usr/local/lib/python3.7/site-packages (from pandas->pandasql) (2019.3)\n",
      "Requirement already satisfied: six>=1.5 in /usr/local/lib/python3.7/site-packages (from python-dateutil>=2.7.3->pandas->pandasql) (1.14.0)\n",
      "\u001b[33mWARNING: You are using pip version 22.0.3; however, version 23.1.2 is available.\n",
      "You should consider upgrading via the '/usr/local/bin/python3.7 -m pip install --upgrade pip' command.\u001b[0m\u001b[33m\n",
      "\u001b[0mNote: you may need to restart the kernel to use updated packages.\n"
     ]
    }
   ],
   "source": [
    "pip install pandasql"
   ]
  },
  {
   "cell_type": "code",
   "execution_count": 130,
   "metadata": {},
   "outputs": [
    {
     "data": {
      "text/plain": [
       "Index(['COUNTYID', 'STATEID', 'state', 'state_ab', 'city', 'place', 'type',\n",
       "       'primary', 'zip_code', 'area_code', 'lat', 'lng', 'ALand', 'AWater',\n",
       "       'pop', 'male_pop', 'female_pop', 'rent_mean', 'rent_median',\n",
       "       'rent_stdev', 'rent_sample_weight', 'rent_samples', 'rent_gt_10',\n",
       "       'rent_gt_15', 'rent_gt_20', 'rent_gt_25', 'rent_gt_30', 'rent_gt_35',\n",
       "       'rent_gt_40', 'rent_gt_50', 'universe_samples', 'used_samples',\n",
       "       'hi_mean', 'hi_median', 'hi_stdev', 'hi_sample_weight', 'hi_samples',\n",
       "       'family_mean', 'family_median', 'family_stdev', 'family_sample_weight',\n",
       "       'family_samples', 'hc_mortgage_mean', 'hc_mortgage_median',\n",
       "       'hc_mortgage_stdev', 'hc_mortgage_sample_weight', 'hc_mortgage_samples',\n",
       "       'hc_mean', 'hc_median', 'hc_stdev', 'hc_samples', 'hc_sample_weight',\n",
       "       'home_equity_second_mortgage', 'second_mortgage', 'home_equity', 'debt',\n",
       "       'second_mortgage_cdf', 'home_equity_cdf', 'debt_cdf', 'hs_degree',\n",
       "       'hs_degree_male', 'hs_degree_female', 'male_age_mean',\n",
       "       'male_age_median', 'male_age_stdev', 'male_age_sample_weight',\n",
       "       'male_age_samples', 'female_age_mean', 'female_age_median',\n",
       "       'female_age_stdev', 'female_age_sample_weight', 'female_age_samples',\n",
       "       'pct_own', 'married', 'married_snp', 'separated', 'divorced'],\n",
       "      dtype='object')"
      ]
     },
     "execution_count": 130,
     "metadata": {},
     "output_type": "execute_result"
    }
   ],
   "source": [
    "train.columns"
   ]
  },
  {
   "cell_type": "code",
   "execution_count": 131,
   "metadata": {},
   "outputs": [],
   "source": [
    "from pandasql import sqldf\n",
    "q1=\"Select place,pct_own,second_mortgage,lat,lng from train where pct_own>0.10 and second_mortgage<0.5 order by second_mortgage DESC LIMIT 2500;\"\n"
   ]
  },
  {
   "cell_type": "code",
   "execution_count": 132,
   "metadata": {},
   "outputs": [],
   "source": [
    "Query_fun=lambda q:sqldf(q,globals()) # SHIFT+TAB\n",
    "df_train_location=Query_fun(q1)"
   ]
  },
  {
   "cell_type": "code",
   "execution_count": 133,
   "metadata": {},
   "outputs": [
    {
     "data": {
      "text/html": [
       "<div>\n",
       "<style scoped>\n",
       "    .dataframe tbody tr th:only-of-type {\n",
       "        vertical-align: middle;\n",
       "    }\n",
       "\n",
       "    .dataframe tbody tr th {\n",
       "        vertical-align: top;\n",
       "    }\n",
       "\n",
       "    .dataframe thead th {\n",
       "        text-align: right;\n",
       "    }\n",
       "</style>\n",
       "<table border=\"1\" class=\"dataframe\">\n",
       "  <thead>\n",
       "    <tr style=\"text-align: right;\">\n",
       "      <th></th>\n",
       "      <th>place</th>\n",
       "      <th>pct_own</th>\n",
       "      <th>second_mortgage</th>\n",
       "      <th>lat</th>\n",
       "      <th>lng</th>\n",
       "    </tr>\n",
       "  </thead>\n",
       "  <tbody>\n",
       "    <tr>\n",
       "      <th>0</th>\n",
       "      <td>Worcester City</td>\n",
       "      <td>0.20247</td>\n",
       "      <td>0.43363</td>\n",
       "      <td>42.254262</td>\n",
       "      <td>-71.800347</td>\n",
       "    </tr>\n",
       "    <tr>\n",
       "      <th>1</th>\n",
       "      <td>Harbor Hills</td>\n",
       "      <td>0.15618</td>\n",
       "      <td>0.31818</td>\n",
       "      <td>40.751809</td>\n",
       "      <td>-73.853582</td>\n",
       "    </tr>\n",
       "    <tr>\n",
       "      <th>2</th>\n",
       "      <td>Glen Burnie</td>\n",
       "      <td>0.22380</td>\n",
       "      <td>0.30212</td>\n",
       "      <td>39.127273</td>\n",
       "      <td>-76.635265</td>\n",
       "    </tr>\n",
       "    <tr>\n",
       "      <th>3</th>\n",
       "      <td>Egypt Lake-leto</td>\n",
       "      <td>0.11618</td>\n",
       "      <td>0.28972</td>\n",
       "      <td>28.029063</td>\n",
       "      <td>-82.495395</td>\n",
       "    </tr>\n",
       "    <tr>\n",
       "      <th>4</th>\n",
       "      <td>Lincolnwood</td>\n",
       "      <td>0.14228</td>\n",
       "      <td>0.28899</td>\n",
       "      <td>41.967289</td>\n",
       "      <td>-87.652434</td>\n",
       "    </tr>\n",
       "    <tr>\n",
       "      <th>...</th>\n",
       "      <td>...</td>\n",
       "      <td>...</td>\n",
       "      <td>...</td>\n",
       "      <td>...</td>\n",
       "      <td>...</td>\n",
       "    </tr>\n",
       "    <tr>\n",
       "      <th>2495</th>\n",
       "      <td>Marina Del Rey</td>\n",
       "      <td>0.44682</td>\n",
       "      <td>0.06818</td>\n",
       "      <td>33.983203</td>\n",
       "      <td>-118.466139</td>\n",
       "    </tr>\n",
       "    <tr>\n",
       "      <th>2496</th>\n",
       "      <td>Raleigh City</td>\n",
       "      <td>0.12827</td>\n",
       "      <td>0.06818</td>\n",
       "      <td>35.757135</td>\n",
       "      <td>-78.704288</td>\n",
       "    </tr>\n",
       "    <tr>\n",
       "      <th>2497</th>\n",
       "      <td>Lochearn</td>\n",
       "      <td>0.84707</td>\n",
       "      <td>0.06815</td>\n",
       "      <td>39.353095</td>\n",
       "      <td>-76.733315</td>\n",
       "    </tr>\n",
       "    <tr>\n",
       "      <th>2498</th>\n",
       "      <td>Manteca City</td>\n",
       "      <td>0.67116</td>\n",
       "      <td>0.06814</td>\n",
       "      <td>37.732143</td>\n",
       "      <td>-121.242902</td>\n",
       "    </tr>\n",
       "    <tr>\n",
       "      <th>2499</th>\n",
       "      <td>Philadelphia City</td>\n",
       "      <td>0.70507</td>\n",
       "      <td>0.06814</td>\n",
       "      <td>40.039070</td>\n",
       "      <td>-75.125135</td>\n",
       "    </tr>\n",
       "  </tbody>\n",
       "</table>\n",
       "<p>2500 rows × 5 columns</p>\n",
       "</div>"
      ],
      "text/plain": [
       "                  place  pct_own  second_mortgage        lat         lng\n",
       "0        Worcester City  0.20247          0.43363  42.254262  -71.800347\n",
       "1          Harbor Hills  0.15618          0.31818  40.751809  -73.853582\n",
       "2           Glen Burnie  0.22380          0.30212  39.127273  -76.635265\n",
       "3       Egypt Lake-leto  0.11618          0.28972  28.029063  -82.495395\n",
       "4           Lincolnwood  0.14228          0.28899  41.967289  -87.652434\n",
       "...                 ...      ...              ...        ...         ...\n",
       "2495     Marina Del Rey  0.44682          0.06818  33.983203 -118.466139\n",
       "2496       Raleigh City  0.12827          0.06818  35.757135  -78.704288\n",
       "2497           Lochearn  0.84707          0.06815  39.353095  -76.733315\n",
       "2498       Manteca City  0.67116          0.06814  37.732143 -121.242902\n",
       "2499  Philadelphia City  0.70507          0.06814  40.039070  -75.125135\n",
       "\n",
       "[2500 rows x 5 columns]"
      ]
     },
     "execution_count": 133,
     "metadata": {},
     "output_type": "execute_result"
    }
   ],
   "source": [
    "df_train_location"
   ]
  },
  {
   "cell_type": "code",
   "execution_count": 134,
   "metadata": {},
   "outputs": [],
   "source": [
    "train['bad_debt'] = train['second_mortgage'] + train['home_equity'] - train['home_equity_second_mortgage']\n"
   ]
  },
  {
   "cell_type": "code",
   "execution_count": 135,
   "metadata": {},
   "outputs": [],
   "source": [
    "#Create Box and whisker plot and analyze the distribution for 2nd mortgage, home equity, good debt, and bad debt for different cities"
   ]
  },
  {
   "cell_type": "code",
   "execution_count": 136,
   "metadata": {},
   "outputs": [],
   "source": [
    "df_ham=train.loc[train['city']=='Hamilton']\n",
    "df_Man=train.loc[train['city']=='Manhattan']\n"
   ]
  },
  {
   "cell_type": "code",
   "execution_count": 137,
   "metadata": {},
   "outputs": [],
   "source": [
    "df_box_city=pd.concat([df_ham,df_Man])"
   ]
  },
  {
   "cell_type": "code",
   "execution_count": 138,
   "metadata": {},
   "outputs": [
    {
     "data": {
      "text/html": [
       "<div>\n",
       "<style scoped>\n",
       "    .dataframe tbody tr th:only-of-type {\n",
       "        vertical-align: middle;\n",
       "    }\n",
       "\n",
       "    .dataframe tbody tr th {\n",
       "        vertical-align: top;\n",
       "    }\n",
       "\n",
       "    .dataframe thead th {\n",
       "        text-align: right;\n",
       "    }\n",
       "</style>\n",
       "<table border=\"1\" class=\"dataframe\">\n",
       "  <thead>\n",
       "    <tr style=\"text-align: right;\">\n",
       "      <th></th>\n",
       "      <th>COUNTYID</th>\n",
       "      <th>STATEID</th>\n",
       "      <th>state</th>\n",
       "      <th>state_ab</th>\n",
       "      <th>city</th>\n",
       "      <th>place</th>\n",
       "      <th>type</th>\n",
       "      <th>primary</th>\n",
       "      <th>zip_code</th>\n",
       "      <th>area_code</th>\n",
       "      <th>...</th>\n",
       "      <th>female_age_median</th>\n",
       "      <th>female_age_stdev</th>\n",
       "      <th>female_age_sample_weight</th>\n",
       "      <th>female_age_samples</th>\n",
       "      <th>pct_own</th>\n",
       "      <th>married</th>\n",
       "      <th>married_snp</th>\n",
       "      <th>separated</th>\n",
       "      <th>divorced</th>\n",
       "      <th>bad_debt</th>\n",
       "    </tr>\n",
       "    <tr>\n",
       "      <th>UID</th>\n",
       "      <th></th>\n",
       "      <th></th>\n",
       "      <th></th>\n",
       "      <th></th>\n",
       "      <th></th>\n",
       "      <th></th>\n",
       "      <th></th>\n",
       "      <th></th>\n",
       "      <th></th>\n",
       "      <th></th>\n",
       "      <th></th>\n",
       "      <th></th>\n",
       "      <th></th>\n",
       "      <th></th>\n",
       "      <th></th>\n",
       "      <th></th>\n",
       "      <th></th>\n",
       "      <th></th>\n",
       "      <th></th>\n",
       "      <th></th>\n",
       "      <th></th>\n",
       "    </tr>\n",
       "  </thead>\n",
       "  <tbody>\n",
       "    <tr>\n",
       "      <th>247218</th>\n",
       "      <td>161</td>\n",
       "      <td>20</td>\n",
       "      <td>Kansas</td>\n",
       "      <td>KS</td>\n",
       "      <td>Manhattan</td>\n",
       "      <td>Manhattan City</td>\n",
       "      <td>City</td>\n",
       "      <td>tract</td>\n",
       "      <td>66502</td>\n",
       "      <td>785</td>\n",
       "      <td>...</td>\n",
       "      <td>21.58333</td>\n",
       "      <td>11.10484</td>\n",
       "      <td>1854.48652</td>\n",
       "      <td>3051.0</td>\n",
       "      <td>0.13046</td>\n",
       "      <td>0.12356</td>\n",
       "      <td>0.00000</td>\n",
       "      <td>0.00000</td>\n",
       "      <td>0.03109</td>\n",
       "      <td>0.05426</td>\n",
       "    </tr>\n",
       "    <tr>\n",
       "      <th>247221</th>\n",
       "      <td>161</td>\n",
       "      <td>20</td>\n",
       "      <td>Kansas</td>\n",
       "      <td>KS</td>\n",
       "      <td>Manhattan</td>\n",
       "      <td>Manhattan City</td>\n",
       "      <td>City</td>\n",
       "      <td>tract</td>\n",
       "      <td>66502</td>\n",
       "      <td>785</td>\n",
       "      <td>...</td>\n",
       "      <td>22.58333</td>\n",
       "      <td>13.58297</td>\n",
       "      <td>881.65612</td>\n",
       "      <td>1949.0</td>\n",
       "      <td>0.16457</td>\n",
       "      <td>0.13823</td>\n",
       "      <td>0.02133</td>\n",
       "      <td>0.01231</td>\n",
       "      <td>0.08080</td>\n",
       "      <td>0.06985</td>\n",
       "    </tr>\n",
       "    <tr>\n",
       "      <th>247222</th>\n",
       "      <td>161</td>\n",
       "      <td>20</td>\n",
       "      <td>Kansas</td>\n",
       "      <td>KS</td>\n",
       "      <td>Manhattan</td>\n",
       "      <td>Manhattan City</td>\n",
       "      <td>City</td>\n",
       "      <td>tract</td>\n",
       "      <td>66502</td>\n",
       "      <td>785</td>\n",
       "      <td>...</td>\n",
       "      <td>28.50000</td>\n",
       "      <td>22.97004</td>\n",
       "      <td>401.88911</td>\n",
       "      <td>1171.0</td>\n",
       "      <td>0.33214</td>\n",
       "      <td>0.29648</td>\n",
       "      <td>0.03015</td>\n",
       "      <td>0.00000</td>\n",
       "      <td>0.11357</td>\n",
       "      <td>0.03581</td>\n",
       "    </tr>\n",
       "    <tr>\n",
       "      <th>247226</th>\n",
       "      <td>161</td>\n",
       "      <td>20</td>\n",
       "      <td>Kansas</td>\n",
       "      <td>KS</td>\n",
       "      <td>Manhattan</td>\n",
       "      <td>Manhattan City</td>\n",
       "      <td>City</td>\n",
       "      <td>tract</td>\n",
       "      <td>66503</td>\n",
       "      <td>785</td>\n",
       "      <td>...</td>\n",
       "      <td>33.75000</td>\n",
       "      <td>21.63916</td>\n",
       "      <td>476.01198</td>\n",
       "      <td>1740.0</td>\n",
       "      <td>0.60948</td>\n",
       "      <td>0.61940</td>\n",
       "      <td>0.02572</td>\n",
       "      <td>0.00220</td>\n",
       "      <td>0.01837</td>\n",
       "      <td>0.19200</td>\n",
       "    </tr>\n",
       "    <tr>\n",
       "      <th>245107</th>\n",
       "      <td>197</td>\n",
       "      <td>17</td>\n",
       "      <td>Illinois</td>\n",
       "      <td>IL</td>\n",
       "      <td>Manhattan</td>\n",
       "      <td>Manhattan</td>\n",
       "      <td>Village</td>\n",
       "      <td>tract</td>\n",
       "      <td>60442</td>\n",
       "      <td>815</td>\n",
       "      <td>...</td>\n",
       "      <td>33.41667</td>\n",
       "      <td>20.40910</td>\n",
       "      <td>579.66259</td>\n",
       "      <td>2491.0</td>\n",
       "      <td>0.93544</td>\n",
       "      <td>0.67987</td>\n",
       "      <td>0.00597</td>\n",
       "      <td>0.00597</td>\n",
       "      <td>0.04775</td>\n",
       "      <td>0.17486</td>\n",
       "    </tr>\n",
       "  </tbody>\n",
       "</table>\n",
       "<p>5 rows × 78 columns</p>\n",
       "</div>"
      ],
      "text/plain": [
       "        COUNTYID  STATEID     state state_ab       city           place  \\\n",
       "UID                                                                       \n",
       "247218       161       20    Kansas       KS  Manhattan  Manhattan City   \n",
       "247221       161       20    Kansas       KS  Manhattan  Manhattan City   \n",
       "247222       161       20    Kansas       KS  Manhattan  Manhattan City   \n",
       "247226       161       20    Kansas       KS  Manhattan  Manhattan City   \n",
       "245107       197       17  Illinois       IL  Manhattan       Manhattan   \n",
       "\n",
       "           type primary  zip_code  area_code  ...  female_age_median  \\\n",
       "UID                                           ...                      \n",
       "247218     City   tract     66502        785  ...           21.58333   \n",
       "247221     City   tract     66502        785  ...           22.58333   \n",
       "247222     City   tract     66502        785  ...           28.50000   \n",
       "247226     City   tract     66503        785  ...           33.75000   \n",
       "245107  Village   tract     60442        815  ...           33.41667   \n",
       "\n",
       "        female_age_stdev  female_age_sample_weight  female_age_samples  \\\n",
       "UID                                                                      \n",
       "247218          11.10484                1854.48652              3051.0   \n",
       "247221          13.58297                 881.65612              1949.0   \n",
       "247222          22.97004                 401.88911              1171.0   \n",
       "247226          21.63916                 476.01198              1740.0   \n",
       "245107          20.40910                 579.66259              2491.0   \n",
       "\n",
       "        pct_own  married  married_snp  separated  divorced  bad_debt  \n",
       "UID                                                                   \n",
       "247218  0.13046  0.12356      0.00000    0.00000   0.03109   0.05426  \n",
       "247221  0.16457  0.13823      0.02133    0.01231   0.08080   0.06985  \n",
       "247222  0.33214  0.29648      0.03015    0.00000   0.11357   0.03581  \n",
       "247226  0.60948  0.61940      0.02572    0.00220   0.01837   0.19200  \n",
       "245107  0.93544  0.67987      0.00597    0.00597   0.04775   0.17486  \n",
       "\n",
       "[5 rows x 78 columns]"
      ]
     },
     "execution_count": 138,
     "metadata": {},
     "output_type": "execute_result"
    }
   ],
   "source": [
    "df_box_city.tail()"
   ]
  },
  {
   "cell_type": "code",
   "execution_count": 139,
   "metadata": {},
   "outputs": [
    {
     "data": {
      "image/png": "[encoded data removed]",
      "text/plain": [
       "<Figure size 432x288 with 1 Axes>"
      ]
     },
     "metadata": {
      "needs_background": "light"
     },
     "output_type": "display_data"
    }
   ],
   "source": [
    "# create a boxplot city & second mortgage\n",
    "sns.boxplot(data=df_box_city,x='second_mortgage',y='city')\n",
    "plt.show()"
   ]
  },
  {
   "cell_type": "code",
   "execution_count": 140,
   "metadata": {},
   "outputs": [
    {
     "data": {
      "image/png": "[encoded data removed]",
      "text/plain": [
       "<Figure size 720x360 with 1 Axes>"
      ]
     },
     "metadata": {
      "needs_background": "light"
     },
     "output_type": "display_data"
    }
   ],
   "source": [
    "#city vs home equity\n",
    "plt.figure(figsize=(10,5))\n",
    "sns.boxplot(data=df_box_city,x='home_equity', y='city')\n",
    "plt.show()"
   ]
  },
  {
   "cell_type": "code",
   "execution_count": 141,
   "metadata": {},
   "outputs": [
    {
     "data": {
      "image/png": "[encoded data removed]",
      "text/plain": [
       "<Figure size 720x360 with 1 Axes>"
      ]
     },
     "metadata": {
      "needs_background": "light"
     },
     "output_type": "display_data"
    }
   ],
   "source": [
    "#debt vs city\n",
    "plt.figure(figsize=(10,5))\n",
    "sns.boxplot(data=df_box_city,x='debt', y='city')\n",
    "plt.show()"
   ]
  },
  {
   "cell_type": "code",
   "execution_count": 142,
   "metadata": {},
   "outputs": [
    {
     "data": {
      "image/png": "[encoded data removed]",
      "text/plain": [
       "<Figure size 720x360 with 1 Axes>"
      ]
     },
     "metadata": {
      "needs_background": "light"
     },
     "output_type": "display_data"
    }
   ],
   "source": [
    "#bad debt vs city\n",
    "plt.figure(figsize=(10,5))\n",
    "sns.boxplot(data=df_box_city,x='bad_debt', y='city')\n",
    "plt.show()"
   ]
  },
  {
   "cell_type": "code",
   "execution_count": 143,
   "metadata": {},
   "outputs": [],
   "source": [
    "#Create a collated income distribution chart for family income, house hold income, and remaining income"
   ]
  },
  {
   "cell_type": "code",
   "execution_count": 144,
   "metadata": {},
   "outputs": [
    {
     "data": {
      "text/plain": [
       "Index(['COUNTYID', 'STATEID', 'state', 'state_ab', 'city', 'place', 'type',\n",
       "       'primary', 'zip_code', 'area_code', 'lat', 'lng', 'ALand', 'AWater',\n",
       "       'pop', 'male_pop', 'female_pop', 'rent_mean', 'rent_median',\n",
       "       'rent_stdev', 'rent_sample_weight', 'rent_samples', 'rent_gt_10',\n",
       "       'rent_gt_15', 'rent_gt_20', 'rent_gt_25', 'rent_gt_30', 'rent_gt_35',\n",
       "       'rent_gt_40', 'rent_gt_50', 'universe_samples', 'used_samples',\n",
       "       'hi_mean', 'hi_median', 'hi_stdev', 'hi_sample_weight', 'hi_samples',\n",
       "       'family_mean', 'family_median', 'family_stdev', 'family_sample_weight',\n",
       "       'family_samples', 'hc_mortgage_mean', 'hc_mortgage_median',\n",
       "       'hc_mortgage_stdev', 'hc_mortgage_sample_weight', 'hc_mortgage_samples',\n",
       "       'hc_mean', 'hc_median', 'hc_stdev', 'hc_samples', 'hc_sample_weight',\n",
       "       'home_equity_second_mortgage', 'second_mortgage', 'home_equity', 'debt',\n",
       "       'second_mortgage_cdf', 'home_equity_cdf', 'debt_cdf', 'hs_degree',\n",
       "       'hs_degree_male', 'hs_degree_female', 'male_age_mean',\n",
       "       'male_age_median', 'male_age_stdev', 'male_age_sample_weight',\n",
       "       'male_age_samples', 'female_age_mean', 'female_age_median',\n",
       "       'female_age_stdev', 'female_age_sample_weight', 'female_age_samples',\n",
       "       'pct_own', 'married', 'married_snp', 'separated', 'divorced',\n",
       "       'bad_debt'],\n",
       "      dtype='object')"
      ]
     },
     "execution_count": 144,
     "metadata": {},
     "output_type": "execute_result"
    }
   ],
   "source": [
    "train.columns"
   ]
  },
  {
   "cell_type": "code",
   "execution_count": 145,
   "metadata": {},
   "outputs": [
    {
     "data": {
      "text/plain": [
       "Text(0.5, 1.0, 'Family Income')"
      ]
     },
     "execution_count": 145,
     "metadata": {},
     "output_type": "execute_result"
    },
    {
     "data": {
      "image/png": "[encoded data removed]",
      "text/plain": [
       "<Figure size 360x360 with 1 Axes>"
      ]
     },
     "metadata": {
      "needs_background": "light"
     },
     "output_type": "display_data"
    }
   ],
   "source": [
    "sns.displot(train['family_mean'])\n",
    "plt.title('Family Income')"
   ]
  },
  {
   "cell_type": "code",
   "execution_count": 146,
   "metadata": {},
   "outputs": [
    {
     "data": {
      "text/plain": [
       "Text(0.5, 1.0, 'Household Income')"
      ]
     },
     "execution_count": 146,
     "metadata": {},
     "output_type": "execute_result"
    },
    {
     "data": {
      "image/png": "[encoded data removed]",
      "text/plain": [
       "<Figure size 360x360 with 1 Axes>"
      ]
     },
     "metadata": {
      "needs_background": "light"
     },
     "output_type": "display_data"
    }
   ],
   "source": [
    "sns.displot(train['hi_mean'])\n",
    "plt.title('Household Income')"
   ]
  },
  {
   "cell_type": "code",
   "execution_count": 147,
   "metadata": {},
   "outputs": [
    {
     "data": {
      "text/plain": [
       "Text(0.5, 1.0, 'Remaining Income')"
      ]
     },
     "execution_count": 147,
     "metadata": {},
     "output_type": "execute_result"
    },
    {
     "data": {
      "image/png": "[encoded data removed]",
      "text/plain": [
       "<Figure size 360x360 with 1 Axes>"
      ]
     },
     "metadata": {
      "needs_background": "light"
     },
     "output_type": "display_data"
    }
   ],
   "source": [
    "sns.displot(train['family_mean']-train['hi_mean'])\n",
    "plt.title('Remaining Income')"
   ]
  },
  {
   "cell_type": "code",
   "execution_count": 148,
   "metadata": {},
   "outputs": [],
   "source": [
    "##Perform EDA and come out with insights into population density and age. You may have to derive new fields (make sure to weight averages for accurate measurements): \n",
    "\n",
    "#Use pop and ALand variables to create a new field called population density\n",
    "\n",
    "#Use male_age_median, female_age_median, male_pop, and female_pop to create a new field called median age\n",
    "\n",
    "#Visualize the findings using appropriate chart type\n"
   ]
  },
  {
   "cell_type": "code",
   "execution_count": 149,
   "metadata": {},
   "outputs": [
    {
     "data": {
      "text/plain": [
       "Index(['COUNTYID', 'STATEID', 'state', 'state_ab', 'city', 'place', 'type',\n",
       "       'primary', 'zip_code', 'area_code', 'lat', 'lng', 'ALand', 'AWater',\n",
       "       'pop', 'male_pop', 'female_pop', 'rent_mean', 'rent_median',\n",
       "       'rent_stdev', 'rent_sample_weight', 'rent_samples', 'rent_gt_10',\n",
       "       'rent_gt_15', 'rent_gt_20', 'rent_gt_25', 'rent_gt_30', 'rent_gt_35',\n",
       "       'rent_gt_40', 'rent_gt_50', 'universe_samples', 'used_samples',\n",
       "       'hi_mean', 'hi_median', 'hi_stdev', 'hi_sample_weight', 'hi_samples',\n",
       "       'family_mean', 'family_median', 'family_stdev', 'family_sample_weight',\n",
       "       'family_samples', 'hc_mortgage_mean', 'hc_mortgage_median',\n",
       "       'hc_mortgage_stdev', 'hc_mortgage_sample_weight', 'hc_mortgage_samples',\n",
       "       'hc_mean', 'hc_median', 'hc_stdev', 'hc_samples', 'hc_sample_weight',\n",
       "       'home_equity_second_mortgage', 'second_mortgage', 'home_equity', 'debt',\n",
       "       'second_mortgage_cdf', 'home_equity_cdf', 'debt_cdf', 'hs_degree',\n",
       "       'hs_degree_male', 'hs_degree_female', 'male_age_mean',\n",
       "       'male_age_median', 'male_age_stdev', 'male_age_sample_weight',\n",
       "       'male_age_samples', 'female_age_mean', 'female_age_median',\n",
       "       'female_age_stdev', 'female_age_sample_weight', 'female_age_samples',\n",
       "       'pct_own', 'married', 'married_snp', 'separated', 'divorced',\n",
       "       'bad_debt'],\n",
       "      dtype='object')"
      ]
     },
     "execution_count": 149,
     "metadata": {},
     "output_type": "execute_result"
    }
   ],
   "source": [
    "train.columns"
   ]
  },
  {
   "cell_type": "code",
   "execution_count": 150,
   "metadata": {},
   "outputs": [
    {
     "name": "stderr",
     "output_type": "stream",
     "text": [
      "/usr/local/lib/python3.7/site-packages/seaborn/distributions.py:2619: FutureWarning: `distplot` is a deprecated function and will be removed in a future version. Please adapt your code to use either `displot` (a figure-level function with similar flexibility) or `histplot` (an axes-level function for histograms).\n",
      "  warnings.warn(msg, FutureWarning)\n"
     ]
    },
    {
     "data": {
      "text/plain": [
       "<AxesSubplot:xlabel='pop', ylabel='Density'>"
      ]
     },
     "execution_count": 150,
     "metadata": {},
     "output_type": "execute_result"
    },
    {
     "data": {
      "image/png": "[encoded data removed]",
      "text/plain": [
       "<Figure size 432x288 with 1 Axes>"
      ]
     },
     "metadata": {
      "needs_background": "light"
     },
     "output_type": "display_data"
    }
   ],
   "source": [
    "sns.distplot(train['pop'])"
   ]
  },
  {
   "cell_type": "code",
   "execution_count": 151,
   "metadata": {},
   "outputs": [
    {
     "name": "stderr",
     "output_type": "stream",
     "text": [
      "/usr/local/lib/python3.7/site-packages/seaborn/distributions.py:2619: FutureWarning: `distplot` is a deprecated function and will be removed in a future version. Please adapt your code to use either `displot` (a figure-level function with similar flexibility) or `histplot` (an axes-level function for histograms).\n",
      "  warnings.warn(msg, FutureWarning)\n"
     ]
    },
    {
     "data": {
      "text/plain": [
       "<AxesSubplot:xlabel='male_pop', ylabel='Density'>"
      ]
     },
     "execution_count": 151,
     "metadata": {},
     "output_type": "execute_result"
    },
    {
     "data": {
      "image/png": "[encoded data removed]",
      "text/plain": [
       "<Figure size 432x288 with 1 Axes>"
      ]
     },
     "metadata": {
      "needs_background": "light"
     },
     "output_type": "display_data"
    }
   ],
   "source": [
    "sns.distplot(train['male_pop'])"
   ]
  },
  {
   "cell_type": "code",
   "execution_count": 152,
   "metadata": {},
   "outputs": [
    {
     "name": "stderr",
     "output_type": "stream",
     "text": [
      "/usr/local/lib/python3.7/site-packages/seaborn/distributions.py:2619: FutureWarning: `distplot` is a deprecated function and will be removed in a future version. Please adapt your code to use either `displot` (a figure-level function with similar flexibility) or `histplot` (an axes-level function for histograms).\n",
      "  warnings.warn(msg, FutureWarning)\n"
     ]
    },
    {
     "data": {
      "text/plain": [
       "<AxesSubplot:xlabel='female_pop', ylabel='Density'>"
      ]
     },
     "execution_count": 152,
     "metadata": {},
     "output_type": "execute_result"
    },
    {
     "data": {
      "image/png": "[encoded data removed]",
      "text/plain": [
       "<Figure size 432x288 with 1 Axes>"
      ]
     },
     "metadata": {
      "needs_background": "light"
     },
     "output_type": "display_data"
    }
   ],
   "source": [
    "sns.distplot(train['female_pop'])"
   ]
  },
  {
   "cell_type": "code",
   "execution_count": 153,
   "metadata": {},
   "outputs": [
    {
     "name": "stderr",
     "output_type": "stream",
     "text": [
      "/usr/local/lib/python3.7/site-packages/seaborn/distributions.py:2619: FutureWarning: `distplot` is a deprecated function and will be removed in a future version. Please adapt your code to use either `displot` (a figure-level function with similar flexibility) or `histplot` (an axes-level function for histograms).\n",
      "  warnings.warn(msg, FutureWarning)\n",
      "/usr/local/lib/python3.7/site-packages/seaborn/distributions.py:2619: FutureWarning: `distplot` is a deprecated function and will be removed in a future version. Please adapt your code to use either `displot` (a figure-level function with similar flexibility) or `histplot` (an axes-level function for histograms).\n",
      "  warnings.warn(msg, FutureWarning)\n"
     ]
    },
    {
     "data": {
      "image/png": "[encoded data removed]",
      "text/plain": [
       "<Figure size 432x288 with 2 Axes>"
      ]
     },
     "metadata": {
      "needs_background": "light"
     },
     "output_type": "display_data"
    }
   ],
   "source": [
    "fig,(ax1,ax2)=plt.subplots(2,1) \n",
    "plt.subplots_adjust(wspace=0.8,hspace=0.9) \n",
    "sns.distplot(train['male_age_mean'],ax=ax1) \n",
    "sns.distplot(train['female_age_mean'],ax=ax2) \n",
    "plt.tight_layout() \n",
    "plt.show()\n"
   ]
  },
  {
   "cell_type": "code",
   "execution_count": 154,
   "metadata": {},
   "outputs": [],
   "source": [
    "train['pop_density']=train['pop']/train['ALand']"
   ]
  },
  {
   "cell_type": "code",
   "execution_count": 155,
   "metadata": {},
   "outputs": [],
   "source": [
    "test['pop_density']=test['pop']/test['ALand']"
   ]
  },
  {
   "cell_type": "code",
   "execution_count": 156,
   "metadata": {},
   "outputs": [
    {
     "data": {
      "text/plain": [
       "UID\n",
       "267822    0.000026\n",
       "246444    0.001687\n",
       "245683    0.000099\n",
       "279653    0.002442\n",
       "247218    0.002207\n",
       "            ...   \n",
       "279212    0.002650\n",
       "277856    0.000818\n",
       "233000    0.000002\n",
       "287425    0.000619\n",
       "265371    0.000478\n",
       "Name: pop_density, Length: 27321, dtype: float64"
      ]
     },
     "execution_count": 156,
     "metadata": {},
     "output_type": "execute_result"
    }
   ],
   "source": [
    "train['pop_density']"
   ]
  },
  {
   "cell_type": "code",
   "execution_count": 157,
   "metadata": {},
   "outputs": [
    {
     "name": "stderr",
     "output_type": "stream",
     "text": [
      "/usr/local/lib/python3.7/site-packages/seaborn/distributions.py:2619: FutureWarning: `distplot` is a deprecated function and will be removed in a future version. Please adapt your code to use either `displot` (a figure-level function with similar flexibility) or `histplot` (an axes-level function for histograms).\n",
      "  warnings.warn(msg, FutureWarning)\n"
     ]
    },
    {
     "data": {
      "image/png": "[encoded data removed]",
      "text/plain": [
       "<Figure size 432x288 with 1 Axes>"
      ]
     },
     "metadata": {
      "needs_background": "light"
     },
     "output_type": "display_data"
    }
   ],
   "source": [
    "# check population density \n",
    "sns.distplot(train['pop_density']) \n",
    "plt.show()"
   ]
  },
  {
   "cell_type": "code",
   "execution_count": 158,
   "metadata": {},
   "outputs": [],
   "source": [
    "train['age_median']=(train['male_age_median']+train['female_age_median'])/2"
   ]
  },
  {
   "cell_type": "code",
   "execution_count": 159,
   "metadata": {},
   "outputs": [],
   "source": [
    "test['age_median']=(test['male_age_median']+test['female_age_median'])/2"
   ]
  },
  {
   "cell_type": "code",
   "execution_count": 160,
   "metadata": {},
   "outputs": [
    {
     "name": "stderr",
     "output_type": "stream",
     "text": [
      "/usr/local/lib/python3.7/site-packages/seaborn/distributions.py:2619: FutureWarning: `distplot` is a deprecated function and will be removed in a future version. Please adapt your code to use either `displot` (a figure-level function with similar flexibility) or `histplot` (an axes-level function for histograms).\n",
      "  warnings.warn(msg, FutureWarning)\n"
     ]
    },
    {
     "data": {
      "image/png": "[encoded data removed]",
      "text/plain": [
       "<Figure size 432x288 with 1 Axes>"
      ]
     },
     "metadata": {
      "needs_background": "light"
     },
     "output_type": "display_data"
    }
   ],
   "source": [
    "sns.distplot(train['age_median'])\n",
    "plt.show()"
   ]
  },
  {
   "cell_type": "code",
   "execution_count": 161,
   "metadata": {},
   "outputs": [
    {
     "name": "stderr",
     "output_type": "stream",
     "text": [
      "/usr/local/lib/python3.7/site-packages/seaborn/_decorators.py:43: FutureWarning: Pass the following variable as a keyword arg: x. From version 0.12, the only valid positional argument will be `data`, and passing other arguments without an explicit keyword will result in an error or misinterpretation.\n",
      "  FutureWarning\n"
     ]
    },
    {
     "data": {
      "image/png": "[encoded data removed]",
      "text/plain": [
       "<Figure size 432x288 with 1 Axes>"
      ]
     },
     "metadata": {
      "needs_background": "light"
     },
     "output_type": "display_data"
    }
   ],
   "source": [
    "sns.boxplot(train['age_median'])\n",
    "plt.show()"
   ]
  },
  {
   "cell_type": "code",
   "execution_count": 162,
   "metadata": {},
   "outputs": [],
   "source": [
    "#Create bins for population into a new variable by selecting appropriate class interval so that the number of categories don’t exceed 5 for the ease of analysis.\n",
    "\n",
    "#Analyze the married, separated, and divorced population for these population brackets\n",
    "\n",
    "#Visualize using appropriate chart type\n"
   ]
  },
  {
   "cell_type": "code",
   "execution_count": 163,
   "metadata": {},
   "outputs": [],
   "source": [
    "train['pop_bins']=pd.cut(train['pop'],bins=5,labels=['very low','low','medium','high','very high'])"
   ]
  },
  {
   "cell_type": "code",
   "execution_count": 164,
   "metadata": {},
   "outputs": [
    {
     "data": {
      "text/plain": [
       "very low     27058\n",
       "low            246\n",
       "medium           9\n",
       "high             7\n",
       "very high        1\n",
       "Name: pop_bins, dtype: int64"
      ]
     },
     "execution_count": 164,
     "metadata": {},
     "output_type": "execute_result"
    }
   ],
   "source": [
    "train['pop_bins'].value_counts()"
   ]
  },
  {
   "cell_type": "code",
   "execution_count": 165,
   "metadata": {},
   "outputs": [
    {
     "data": {
      "text/plain": [
       "count    27321.000000\n",
       "mean      4316.032685\n",
       "std       2169.226173\n",
       "min          0.000000\n",
       "25%       2885.000000\n",
       "50%       4042.000000\n",
       "75%       5430.000000\n",
       "max      53812.000000\n",
       "Name: pop, dtype: float64"
      ]
     },
     "execution_count": 165,
     "metadata": {},
     "output_type": "execute_result"
    }
   ],
   "source": [
    "train['pop'].describe()"
   ]
  },
  {
   "cell_type": "code",
   "execution_count": 166,
   "metadata": {},
   "outputs": [
    {
     "data": {
      "text/plain": [
       "<AxesSubplot:>"
      ]
     },
     "execution_count": 166,
     "metadata": {},
     "output_type": "execute_result"
    },
    {
     "data": {
      "image/png": "[encoded data removed]",
      "text/plain": [
       "<Figure size 432x288 with 1 Axes>"
      ]
     },
     "metadata": {
      "needs_background": "light"
     },
     "output_type": "display_data"
    }
   ],
   "source": [
    "train['pop_bins'].value_counts().plot(kind='bar')"
   ]
  },
  {
   "cell_type": "code",
   "execution_count": 167,
   "metadata": {},
   "outputs": [
    {
     "data": {
      "text/html": [
       "<div>\n",
       "<style scoped>\n",
       "    .dataframe tbody tr th:only-of-type {\n",
       "        vertical-align: middle;\n",
       "    }\n",
       "\n",
       "    .dataframe tbody tr th {\n",
       "        vertical-align: top;\n",
       "    }\n",
       "\n",
       "    .dataframe thead th {\n",
       "        text-align: right;\n",
       "    }\n",
       "</style>\n",
       "<table border=\"1\" class=\"dataframe\">\n",
       "  <thead>\n",
       "    <tr style=\"text-align: right;\">\n",
       "      <th></th>\n",
       "      <th>married</th>\n",
       "      <th>separated</th>\n",
       "      <th>divorced</th>\n",
       "    </tr>\n",
       "    <tr>\n",
       "      <th>pop_bins</th>\n",
       "      <th></th>\n",
       "      <th></th>\n",
       "      <th></th>\n",
       "    </tr>\n",
       "  </thead>\n",
       "  <tbody>\n",
       "    <tr>\n",
       "      <th>very low</th>\n",
       "      <td>27058</td>\n",
       "      <td>27058</td>\n",
       "      <td>27058</td>\n",
       "    </tr>\n",
       "    <tr>\n",
       "      <th>low</th>\n",
       "      <td>246</td>\n",
       "      <td>246</td>\n",
       "      <td>246</td>\n",
       "    </tr>\n",
       "    <tr>\n",
       "      <th>medium</th>\n",
       "      <td>9</td>\n",
       "      <td>9</td>\n",
       "      <td>9</td>\n",
       "    </tr>\n",
       "    <tr>\n",
       "      <th>high</th>\n",
       "      <td>7</td>\n",
       "      <td>7</td>\n",
       "      <td>7</td>\n",
       "    </tr>\n",
       "    <tr>\n",
       "      <th>very high</th>\n",
       "      <td>1</td>\n",
       "      <td>1</td>\n",
       "      <td>1</td>\n",
       "    </tr>\n",
       "  </tbody>\n",
       "</table>\n",
       "</div>"
      ],
      "text/plain": [
       "           married  separated  divorced\n",
       "pop_bins                               \n",
       "very low     27058      27058     27058\n",
       "low            246        246       246\n",
       "medium           9          9         9\n",
       "high             7          7         7\n",
       "very high        1          1         1"
      ]
     },
     "execution_count": 167,
     "metadata": {},
     "output_type": "execute_result"
    }
   ],
   "source": [
    "train.groupby(by='pop_bins')[['married','separated', 'divorced']].count()"
   ]
  },
  {
   "cell_type": "code",
   "execution_count": 168,
   "metadata": {},
   "outputs": [
    {
     "data": {
      "text/html": [
       "<div>\n",
       "<style scoped>\n",
       "    .dataframe tbody tr th:only-of-type {\n",
       "        vertical-align: middle;\n",
       "    }\n",
       "\n",
       "    .dataframe tbody tr th {\n",
       "        vertical-align: top;\n",
       "    }\n",
       "\n",
       "    .dataframe thead tr th {\n",
       "        text-align: left;\n",
       "    }\n",
       "\n",
       "    .dataframe thead tr:last-of-type th {\n",
       "        text-align: right;\n",
       "    }\n",
       "</style>\n",
       "<table border=\"1\" class=\"dataframe\">\n",
       "  <thead>\n",
       "    <tr>\n",
       "      <th></th>\n",
       "      <th colspan=\"4\" halign=\"left\">married</th>\n",
       "      <th colspan=\"4\" halign=\"left\">separated</th>\n",
       "      <th colspan=\"4\" halign=\"left\">divorced</th>\n",
       "    </tr>\n",
       "    <tr>\n",
       "      <th></th>\n",
       "      <th>sum</th>\n",
       "      <th>mean</th>\n",
       "      <th>median</th>\n",
       "      <th>count</th>\n",
       "      <th>sum</th>\n",
       "      <th>mean</th>\n",
       "      <th>median</th>\n",
       "      <th>count</th>\n",
       "      <th>sum</th>\n",
       "      <th>mean</th>\n",
       "      <th>median</th>\n",
       "      <th>count</th>\n",
       "    </tr>\n",
       "    <tr>\n",
       "      <th>pop_bins</th>\n",
       "      <th></th>\n",
       "      <th></th>\n",
       "      <th></th>\n",
       "      <th></th>\n",
       "      <th></th>\n",
       "      <th></th>\n",
       "      <th></th>\n",
       "      <th></th>\n",
       "      <th></th>\n",
       "      <th></th>\n",
       "      <th></th>\n",
       "      <th></th>\n",
       "    </tr>\n",
       "  </thead>\n",
       "  <tbody>\n",
       "    <tr>\n",
       "      <th>very low</th>\n",
       "      <td>13733.22489</td>\n",
       "      <td>0.507548</td>\n",
       "      <td>0.524680</td>\n",
       "      <td>27058</td>\n",
       "      <td>517.52126</td>\n",
       "      <td>0.019126</td>\n",
       "      <td>0.013650</td>\n",
       "      <td>27058</td>\n",
       "      <td>2719.430721</td>\n",
       "      <td>0.100504</td>\n",
       "      <td>0.096020</td>\n",
       "      <td>27058</td>\n",
       "    </tr>\n",
       "    <tr>\n",
       "      <th>low</th>\n",
       "      <td>143.88385</td>\n",
       "      <td>0.584894</td>\n",
       "      <td>0.593135</td>\n",
       "      <td>246</td>\n",
       "      <td>3.89480</td>\n",
       "      <td>0.015833</td>\n",
       "      <td>0.011195</td>\n",
       "      <td>246</td>\n",
       "      <td>18.535600</td>\n",
       "      <td>0.075348</td>\n",
       "      <td>0.070045</td>\n",
       "      <td>246</td>\n",
       "    </tr>\n",
       "    <tr>\n",
       "      <th>medium</th>\n",
       "      <td>5.90163</td>\n",
       "      <td>0.655737</td>\n",
       "      <td>0.618710</td>\n",
       "      <td>9</td>\n",
       "      <td>0.04503</td>\n",
       "      <td>0.005003</td>\n",
       "      <td>0.004120</td>\n",
       "      <td>9</td>\n",
       "      <td>0.593340</td>\n",
       "      <td>0.065927</td>\n",
       "      <td>0.064890</td>\n",
       "      <td>9</td>\n",
       "    </tr>\n",
       "    <tr>\n",
       "      <th>high</th>\n",
       "      <td>3.52351</td>\n",
       "      <td>0.503359</td>\n",
       "      <td>0.335660</td>\n",
       "      <td>7</td>\n",
       "      <td>0.05699</td>\n",
       "      <td>0.008141</td>\n",
       "      <td>0.002500</td>\n",
       "      <td>7</td>\n",
       "      <td>0.273210</td>\n",
       "      <td>0.039030</td>\n",
       "      <td>0.010320</td>\n",
       "      <td>7</td>\n",
       "    </tr>\n",
       "    <tr>\n",
       "      <th>very high</th>\n",
       "      <td>0.73474</td>\n",
       "      <td>0.734740</td>\n",
       "      <td>0.734740</td>\n",
       "      <td>1</td>\n",
       "      <td>0.00405</td>\n",
       "      <td>0.004050</td>\n",
       "      <td>0.004050</td>\n",
       "      <td>1</td>\n",
       "      <td>0.030360</td>\n",
       "      <td>0.030360</td>\n",
       "      <td>0.030360</td>\n",
       "      <td>1</td>\n",
       "    </tr>\n",
       "  </tbody>\n",
       "</table>\n",
       "</div>"
      ],
      "text/plain": [
       "               married                             separated            \\\n",
       "                   sum      mean    median  count        sum      mean   \n",
       "pop_bins                                                                 \n",
       "very low   13733.22489  0.507548  0.524680  27058  517.52126  0.019126   \n",
       "low          143.88385  0.584894  0.593135    246    3.89480  0.015833   \n",
       "medium         5.90163  0.655737  0.618710      9    0.04503  0.005003   \n",
       "high           3.52351  0.503359  0.335660      7    0.05699  0.008141   \n",
       "very high      0.73474  0.734740  0.734740      1    0.00405  0.004050   \n",
       "\n",
       "                               divorced                             \n",
       "             median  count          sum      mean    median  count  \n",
       "pop_bins                                                            \n",
       "very low   0.013650  27058  2719.430721  0.100504  0.096020  27058  \n",
       "low        0.011195    246    18.535600  0.075348  0.070045    246  \n",
       "medium     0.004120      9     0.593340  0.065927  0.064890      9  \n",
       "high       0.002500      7     0.273210  0.039030  0.010320      7  \n",
       "very high  0.004050      1     0.030360  0.030360  0.030360      1  "
      ]
     },
     "execution_count": 168,
     "metadata": {},
     "output_type": "execute_result"
    }
   ],
   "source": [
    "train.groupby(by='pop_bins')[['married','separated', 'divorced']].agg(['sum','mean','median','count'])"
   ]
  },
  {
   "cell_type": "code",
   "execution_count": 169,
   "metadata": {},
   "outputs": [
    {
     "data": {
      "text/plain": [
       "<matplotlib.legend.Legend at 0x7f9d9b026f10>"
      ]
     },
     "execution_count": 169,
     "metadata": {},
     "output_type": "execute_result"
    },
    {
     "data": {
      "image/png": "[encoded data removed]",
      "text/plain": [
       "<Figure size 1080x576 with 1 Axes>"
      ]
     },
     "metadata": {
      "needs_background": "light"
     },
     "output_type": "display_data"
    }
   ],
   "source": [
    "train.groupby(by='pop_bins')[['married','separated', 'divorced']].agg(['mean']).plot(figsize=(15,8)) \n",
    "plt.legend(loc='best')\n"
   ]
  },
  {
   "cell_type": "code",
   "execution_count": 170,
   "metadata": {},
   "outputs": [],
   "source": [
    "#Perform correlation analysis for all the relevant variables by creating a heatmap. Describe your findings."
   ]
  },
  {
   "cell_type": "code",
   "execution_count": 171,
   "metadata": {},
   "outputs": [],
   "source": [
    "rent_state_mean=train.groupby(by='state')['rent_mean'].agg([\"mean\"])"
   ]
  },
  {
   "cell_type": "code",
   "execution_count": 172,
   "metadata": {},
   "outputs": [],
   "source": [
    "income_state_mean=train.groupby(by='state')['family_mean'].agg(['mean'])"
   ]
  },
  {
   "cell_type": "code",
   "execution_count": 173,
   "metadata": {},
   "outputs": [
    {
     "data": {
      "text/html": [
       "<div>\n",
       "<style scoped>\n",
       "    .dataframe tbody tr th:only-of-type {\n",
       "        vertical-align: middle;\n",
       "    }\n",
       "\n",
       "    .dataframe tbody tr th {\n",
       "        vertical-align: top;\n",
       "    }\n",
       "\n",
       "    .dataframe thead th {\n",
       "        text-align: right;\n",
       "    }\n",
       "</style>\n",
       "<table border=\"1\" class=\"dataframe\">\n",
       "  <thead>\n",
       "    <tr style=\"text-align: right;\">\n",
       "      <th></th>\n",
       "      <th>mean</th>\n",
       "    </tr>\n",
       "    <tr>\n",
       "      <th>state</th>\n",
       "      <th></th>\n",
       "    </tr>\n",
       "  </thead>\n",
       "  <tbody>\n",
       "    <tr>\n",
       "      <th>Alabama</th>\n",
       "      <td>67030.064213</td>\n",
       "    </tr>\n",
       "    <tr>\n",
       "      <th>Alaska</th>\n",
       "      <td>92136.545109</td>\n",
       "    </tr>\n",
       "    <tr>\n",
       "      <th>Arizona</th>\n",
       "      <td>73328.238798</td>\n",
       "    </tr>\n",
       "    <tr>\n",
       "      <th>Arkansas</th>\n",
       "      <td>64765.377850</td>\n",
       "    </tr>\n",
       "    <tr>\n",
       "      <th>California</th>\n",
       "      <td>87655.470820</td>\n",
       "    </tr>\n",
       "  </tbody>\n",
       "</table>\n",
       "</div>"
      ],
      "text/plain": [
       "                    mean\n",
       "state                   \n",
       "Alabama     67030.064213\n",
       "Alaska      92136.545109\n",
       "Arizona     73328.238798\n",
       "Arkansas    64765.377850\n",
       "California  87655.470820"
      ]
     },
     "execution_count": 173,
     "metadata": {},
     "output_type": "execute_result"
    }
   ],
   "source": [
    "income_state_mean.head()"
   ]
  },
  {
   "cell_type": "code",
   "execution_count": 174,
   "metadata": {},
   "outputs": [],
   "source": [
    "# calculate rent percentage \n",
    "rent_perc=rent_state_mean['mean']/income_state_mean['mean']"
   ]
  },
  {
   "cell_type": "code",
   "execution_count": 175,
   "metadata": {},
   "outputs": [
    {
     "data": {
      "text/plain": [
       "Index(['COUNTYID', 'STATEID', 'state', 'state_ab', 'city', 'place', 'type',\n",
       "       'primary', 'zip_code', 'area_code', 'lat', 'lng', 'ALand', 'AWater',\n",
       "       'pop', 'male_pop', 'female_pop', 'rent_mean', 'rent_median',\n",
       "       'rent_stdev', 'rent_sample_weight', 'rent_samples', 'rent_gt_10',\n",
       "       'rent_gt_15', 'rent_gt_20', 'rent_gt_25', 'rent_gt_30', 'rent_gt_35',\n",
       "       'rent_gt_40', 'rent_gt_50', 'universe_samples', 'used_samples',\n",
       "       'hi_mean', 'hi_median', 'hi_stdev', 'hi_sample_weight', 'hi_samples',\n",
       "       'family_mean', 'family_median', 'family_stdev', 'family_sample_weight',\n",
       "       'family_samples', 'hc_mortgage_mean', 'hc_mortgage_median',\n",
       "       'hc_mortgage_stdev', 'hc_mortgage_sample_weight', 'hc_mortgage_samples',\n",
       "       'hc_mean', 'hc_median', 'hc_stdev', 'hc_samples', 'hc_sample_weight',\n",
       "       'home_equity_second_mortgage', 'second_mortgage', 'home_equity', 'debt',\n",
       "       'second_mortgage_cdf', 'home_equity_cdf', 'debt_cdf', 'hs_degree',\n",
       "       'hs_degree_male', 'hs_degree_female', 'male_age_mean',\n",
       "       'male_age_median', 'male_age_stdev', 'male_age_sample_weight',\n",
       "       'male_age_samples', 'female_age_mean', 'female_age_median',\n",
       "       'female_age_stdev', 'female_age_sample_weight', 'female_age_samples',\n",
       "       'pct_own', 'married', 'married_snp', 'separated', 'divorced',\n",
       "       'bad_debt', 'pop_density', 'age_median', 'pop_bins'],\n",
       "      dtype='object')"
      ]
     },
     "execution_count": 175,
     "metadata": {},
     "output_type": "execute_result"
    }
   ],
   "source": [
    "#heat map\n",
    "train.columns"
   ]
  },
  {
   "cell_type": "code",
   "execution_count": 176,
   "metadata": {},
   "outputs": [],
   "source": [
    "num=train.select_dtypes(exclude='object')"
   ]
  },
  {
   "cell_type": "code",
   "execution_count": 177,
   "metadata": {},
   "outputs": [
    {
     "data": {
      "text/html": [
       "<div>\n",
       "<style scoped>\n",
       "    .dataframe tbody tr th:only-of-type {\n",
       "        vertical-align: middle;\n",
       "    }\n",
       "\n",
       "    .dataframe tbody tr th {\n",
       "        vertical-align: top;\n",
       "    }\n",
       "\n",
       "    .dataframe thead th {\n",
       "        text-align: right;\n",
       "    }\n",
       "</style>\n",
       "<table border=\"1\" class=\"dataframe\">\n",
       "  <thead>\n",
       "    <tr style=\"text-align: right;\">\n",
       "      <th></th>\n",
       "      <th>COUNTYID</th>\n",
       "      <th>STATEID</th>\n",
       "      <th>zip_code</th>\n",
       "      <th>area_code</th>\n",
       "      <th>lat</th>\n",
       "      <th>lng</th>\n",
       "      <th>ALand</th>\n",
       "      <th>AWater</th>\n",
       "      <th>pop</th>\n",
       "      <th>male_pop</th>\n",
       "      <th>...</th>\n",
       "      <th>female_age_samples</th>\n",
       "      <th>pct_own</th>\n",
       "      <th>married</th>\n",
       "      <th>married_snp</th>\n",
       "      <th>separated</th>\n",
       "      <th>divorced</th>\n",
       "      <th>bad_debt</th>\n",
       "      <th>pop_density</th>\n",
       "      <th>age_median</th>\n",
       "      <th>pop_bins</th>\n",
       "    </tr>\n",
       "    <tr>\n",
       "      <th>UID</th>\n",
       "      <th></th>\n",
       "      <th></th>\n",
       "      <th></th>\n",
       "      <th></th>\n",
       "      <th></th>\n",
       "      <th></th>\n",
       "      <th></th>\n",
       "      <th></th>\n",
       "      <th></th>\n",
       "      <th></th>\n",
       "      <th></th>\n",
       "      <th></th>\n",
       "      <th></th>\n",
       "      <th></th>\n",
       "      <th></th>\n",
       "      <th></th>\n",
       "      <th></th>\n",
       "      <th></th>\n",
       "      <th></th>\n",
       "      <th></th>\n",
       "      <th></th>\n",
       "    </tr>\n",
       "  </thead>\n",
       "  <tbody>\n",
       "    <tr>\n",
       "      <th>267822</th>\n",
       "      <td>53</td>\n",
       "      <td>36</td>\n",
       "      <td>13346</td>\n",
       "      <td>315</td>\n",
       "      <td>42.840812</td>\n",
       "      <td>-75.501524</td>\n",
       "      <td>2.021834e+08</td>\n",
       "      <td>1699120</td>\n",
       "      <td>5230</td>\n",
       "      <td>2612</td>\n",
       "      <td>...</td>\n",
       "      <td>2618.0</td>\n",
       "      <td>0.79046</td>\n",
       "      <td>0.57851</td>\n",
       "      <td>0.01882</td>\n",
       "      <td>0.01240</td>\n",
       "      <td>0.08770</td>\n",
       "      <td>0.09408</td>\n",
       "      <td>0.000026</td>\n",
       "      <td>44.666665</td>\n",
       "      <td>very low</td>\n",
       "    </tr>\n",
       "    <tr>\n",
       "      <th>246444</th>\n",
       "      <td>141</td>\n",
       "      <td>18</td>\n",
       "      <td>46616</td>\n",
       "      <td>574</td>\n",
       "      <td>41.701441</td>\n",
       "      <td>-86.266614</td>\n",
       "      <td>1.560828e+06</td>\n",
       "      <td>100363</td>\n",
       "      <td>2633</td>\n",
       "      <td>1349</td>\n",
       "      <td>...</td>\n",
       "      <td>1284.0</td>\n",
       "      <td>0.52483</td>\n",
       "      <td>0.34886</td>\n",
       "      <td>0.01426</td>\n",
       "      <td>0.01426</td>\n",
       "      <td>0.09030</td>\n",
       "      <td>0.04274</td>\n",
       "      <td>0.001687</td>\n",
       "      <td>34.791665</td>\n",
       "      <td>very low</td>\n",
       "    </tr>\n",
       "    <tr>\n",
       "      <th>245683</th>\n",
       "      <td>63</td>\n",
       "      <td>18</td>\n",
       "      <td>46122</td>\n",
       "      <td>317</td>\n",
       "      <td>39.792202</td>\n",
       "      <td>-86.515246</td>\n",
       "      <td>6.956160e+07</td>\n",
       "      <td>284193</td>\n",
       "      <td>6881</td>\n",
       "      <td>3643</td>\n",
       "      <td>...</td>\n",
       "      <td>3238.0</td>\n",
       "      <td>0.85331</td>\n",
       "      <td>0.64745</td>\n",
       "      <td>0.02830</td>\n",
       "      <td>0.01607</td>\n",
       "      <td>0.10657</td>\n",
       "      <td>0.09512</td>\n",
       "      <td>0.000099</td>\n",
       "      <td>41.833330</td>\n",
       "      <td>very low</td>\n",
       "    </tr>\n",
       "    <tr>\n",
       "      <th>279653</th>\n",
       "      <td>127</td>\n",
       "      <td>72</td>\n",
       "      <td>927</td>\n",
       "      <td>787</td>\n",
       "      <td>18.396103</td>\n",
       "      <td>-66.104169</td>\n",
       "      <td>1.105793e+06</td>\n",
       "      <td>0</td>\n",
       "      <td>2700</td>\n",
       "      <td>1141</td>\n",
       "      <td>...</td>\n",
       "      <td>1559.0</td>\n",
       "      <td>0.65037</td>\n",
       "      <td>0.47257</td>\n",
       "      <td>0.02021</td>\n",
       "      <td>0.02021</td>\n",
       "      <td>0.10106</td>\n",
       "      <td>0.01086</td>\n",
       "      <td>0.002442</td>\n",
       "      <td>49.750000</td>\n",
       "      <td>very low</td>\n",
       "    </tr>\n",
       "    <tr>\n",
       "      <th>247218</th>\n",
       "      <td>161</td>\n",
       "      <td>20</td>\n",
       "      <td>66502</td>\n",
       "      <td>785</td>\n",
       "      <td>39.195573</td>\n",
       "      <td>-96.569366</td>\n",
       "      <td>2.554403e+06</td>\n",
       "      <td>0</td>\n",
       "      <td>5637</td>\n",
       "      <td>2586</td>\n",
       "      <td>...</td>\n",
       "      <td>3051.0</td>\n",
       "      <td>0.13046</td>\n",
       "      <td>0.12356</td>\n",
       "      <td>0.00000</td>\n",
       "      <td>0.00000</td>\n",
       "      <td>0.03109</td>\n",
       "      <td>0.05426</td>\n",
       "      <td>0.002207</td>\n",
       "      <td>22.000000</td>\n",
       "      <td>very low</td>\n",
       "    </tr>\n",
       "    <tr>\n",
       "      <th>...</th>\n",
       "      <td>...</td>\n",
       "      <td>...</td>\n",
       "      <td>...</td>\n",
       "      <td>...</td>\n",
       "      <td>...</td>\n",
       "      <td>...</td>\n",
       "      <td>...</td>\n",
       "      <td>...</td>\n",
       "      <td>...</td>\n",
       "      <td>...</td>\n",
       "      <td>...</td>\n",
       "      <td>...</td>\n",
       "      <td>...</td>\n",
       "      <td>...</td>\n",
       "      <td>...</td>\n",
       "      <td>...</td>\n",
       "      <td>...</td>\n",
       "      <td>...</td>\n",
       "      <td>...</td>\n",
       "      <td>...</td>\n",
       "      <td>...</td>\n",
       "    </tr>\n",
       "    <tr>\n",
       "      <th>279212</th>\n",
       "      <td>43</td>\n",
       "      <td>72</td>\n",
       "      <td>769</td>\n",
       "      <td>787</td>\n",
       "      <td>18.076060</td>\n",
       "      <td>-66.358379</td>\n",
       "      <td>6.970300e+05</td>\n",
       "      <td>0</td>\n",
       "      <td>1847</td>\n",
       "      <td>909</td>\n",
       "      <td>...</td>\n",
       "      <td>938.0</td>\n",
       "      <td>0.60422</td>\n",
       "      <td>0.24603</td>\n",
       "      <td>0.03042</td>\n",
       "      <td>0.02249</td>\n",
       "      <td>0.14683</td>\n",
       "      <td>0.00000</td>\n",
       "      <td>0.002650</td>\n",
       "      <td>40.916670</td>\n",
       "      <td>very low</td>\n",
       "    </tr>\n",
       "    <tr>\n",
       "      <th>277856</th>\n",
       "      <td>91</td>\n",
       "      <td>42</td>\n",
       "      <td>19422</td>\n",
       "      <td>215</td>\n",
       "      <td>40.158138</td>\n",
       "      <td>-75.307271</td>\n",
       "      <td>5.077337e+06</td>\n",
       "      <td>11786</td>\n",
       "      <td>4155</td>\n",
       "      <td>2116</td>\n",
       "      <td>...</td>\n",
       "      <td>2039.0</td>\n",
       "      <td>0.68072</td>\n",
       "      <td>0.61127</td>\n",
       "      <td>0.05003</td>\n",
       "      <td>0.02473</td>\n",
       "      <td>0.04888</td>\n",
       "      <td>0.20908</td>\n",
       "      <td>0.000818</td>\n",
       "      <td>39.166665</td>\n",
       "      <td>very low</td>\n",
       "    </tr>\n",
       "    <tr>\n",
       "      <th>233000</th>\n",
       "      <td>87</td>\n",
       "      <td>8</td>\n",
       "      <td>80653</td>\n",
       "      <td>970</td>\n",
       "      <td>40.410316</td>\n",
       "      <td>-103.814003</td>\n",
       "      <td>1.323262e+09</td>\n",
       "      <td>17577610</td>\n",
       "      <td>2829</td>\n",
       "      <td>1465</td>\n",
       "      <td>...</td>\n",
       "      <td>1364.0</td>\n",
       "      <td>0.78508</td>\n",
       "      <td>0.70451</td>\n",
       "      <td>0.01386</td>\n",
       "      <td>0.00520</td>\n",
       "      <td>0.07712</td>\n",
       "      <td>0.07857</td>\n",
       "      <td>0.000002</td>\n",
       "      <td>44.166665</td>\n",
       "      <td>very low</td>\n",
       "    </tr>\n",
       "    <tr>\n",
       "      <th>287425</th>\n",
       "      <td>439</td>\n",
       "      <td>48</td>\n",
       "      <td>76034</td>\n",
       "      <td>817</td>\n",
       "      <td>32.904866</td>\n",
       "      <td>-97.162151</td>\n",
       "      <td>1.865230e+07</td>\n",
       "      <td>158882</td>\n",
       "      <td>11542</td>\n",
       "      <td>5727</td>\n",
       "      <td>...</td>\n",
       "      <td>5815.0</td>\n",
       "      <td>0.93970</td>\n",
       "      <td>0.75503</td>\n",
       "      <td>0.02287</td>\n",
       "      <td>0.00915</td>\n",
       "      <td>0.05261</td>\n",
       "      <td>0.14305</td>\n",
       "      <td>0.000619</td>\n",
       "      <td>45.041670</td>\n",
       "      <td>low</td>\n",
       "    </tr>\n",
       "    <tr>\n",
       "      <th>265371</th>\n",
       "      <td>3</td>\n",
       "      <td>32</td>\n",
       "      <td>89123</td>\n",
       "      <td>702</td>\n",
       "      <td>36.064754</td>\n",
       "      <td>-115.152237</td>\n",
       "      <td>7.796308e+06</td>\n",
       "      <td>0</td>\n",
       "      <td>3726</td>\n",
       "      <td>1815</td>\n",
       "      <td>...</td>\n",
       "      <td>1911.0</td>\n",
       "      <td>0.27912</td>\n",
       "      <td>0.34426</td>\n",
       "      <td>0.03825</td>\n",
       "      <td>0.03005</td>\n",
       "      <td>0.13320</td>\n",
       "      <td>0.18362</td>\n",
       "      <td>0.000478</td>\n",
       "      <td>31.166665</td>\n",
       "      <td>very low</td>\n",
       "    </tr>\n",
       "  </tbody>\n",
       "</table>\n",
       "<p>27321 rows × 75 columns</p>\n",
       "</div>"
      ],
      "text/plain": [
       "        COUNTYID  STATEID  zip_code  area_code        lat         lng  \\\n",
       "UID                                                                     \n",
       "267822        53       36     13346        315  42.840812  -75.501524   \n",
       "246444       141       18     46616        574  41.701441  -86.266614   \n",
       "245683        63       18     46122        317  39.792202  -86.515246   \n",
       "279653       127       72       927        787  18.396103  -66.104169   \n",
       "247218       161       20     66502        785  39.195573  -96.569366   \n",
       "...          ...      ...       ...        ...        ...         ...   \n",
       "279212        43       72       769        787  18.076060  -66.358379   \n",
       "277856        91       42     19422        215  40.158138  -75.307271   \n",
       "233000        87        8     80653        970  40.410316 -103.814003   \n",
       "287425       439       48     76034        817  32.904866  -97.162151   \n",
       "265371         3       32     89123        702  36.064754 -115.152237   \n",
       "\n",
       "               ALand    AWater    pop  male_pop  ...  female_age_samples  \\\n",
       "UID                                              ...                       \n",
       "267822  2.021834e+08   1699120   5230      2612  ...              2618.0   \n",
       "246444  1.560828e+06    100363   2633      1349  ...              1284.0   \n",
       "245683  6.956160e+07    284193   6881      3643  ...              3238.0   \n",
       "279653  1.105793e+06         0   2700      1141  ...              1559.0   \n",
       "247218  2.554403e+06         0   5637      2586  ...              3051.0   \n",
       "...              ...       ...    ...       ...  ...                 ...   \n",
       "279212  6.970300e+05         0   1847       909  ...               938.0   \n",
       "277856  5.077337e+06     11786   4155      2116  ...              2039.0   \n",
       "233000  1.323262e+09  17577610   2829      1465  ...              1364.0   \n",
       "287425  1.865230e+07    158882  11542      5727  ...              5815.0   \n",
       "265371  7.796308e+06         0   3726      1815  ...              1911.0   \n",
       "\n",
       "        pct_own  married  married_snp  separated  divorced  bad_debt  \\\n",
       "UID                                                                    \n",
       "267822  0.79046  0.57851      0.01882    0.01240   0.08770   0.09408   \n",
       "246444  0.52483  0.34886      0.01426    0.01426   0.09030   0.04274   \n",
       "245683  0.85331  0.64745      0.02830    0.01607   0.10657   0.09512   \n",
       "279653  0.65037  0.47257      0.02021    0.02021   0.10106   0.01086   \n",
       "247218  0.13046  0.12356      0.00000    0.00000   0.03109   0.05426   \n",
       "...         ...      ...          ...        ...       ...       ...   \n",
       "279212  0.60422  0.24603      0.03042    0.02249   0.14683   0.00000   \n",
       "277856  0.68072  0.61127      0.05003    0.02473   0.04888   0.20908   \n",
       "233000  0.78508  0.70451      0.01386    0.00520   0.07712   0.07857   \n",
       "287425  0.93970  0.75503      0.02287    0.00915   0.05261   0.14305   \n",
       "265371  0.27912  0.34426      0.03825    0.03005   0.13320   0.18362   \n",
       "\n",
       "        pop_density  age_median  pop_bins  \n",
       "UID                                        \n",
       "267822     0.000026   44.666665  very low  \n",
       "246444     0.001687   34.791665  very low  \n",
       "245683     0.000099   41.833330  very low  \n",
       "279653     0.002442   49.750000  very low  \n",
       "247218     0.002207   22.000000  very low  \n",
       "...             ...         ...       ...  \n",
       "279212     0.002650   40.916670  very low  \n",
       "277856     0.000818   39.166665  very low  \n",
       "233000     0.000002   44.166665  very low  \n",
       "287425     0.000619   45.041670       low  \n",
       "265371     0.000478   31.166665  very low  \n",
       "\n",
       "[27321 rows x 75 columns]"
      ]
     },
     "execution_count": 177,
     "metadata": {},
     "output_type": "execute_result"
    }
   ],
   "source": [
    "num"
   ]
  },
  {
   "cell_type": "code",
   "execution_count": 178,
   "metadata": {},
   "outputs": [
    {
     "data": {
      "text/plain": [
       "(27321, 75)"
      ]
     },
     "execution_count": 178,
     "metadata": {},
     "output_type": "execute_result"
    }
   ],
   "source": [
    "num.shape"
   ]
  },
  {
   "cell_type": "code",
   "execution_count": 179,
   "metadata": {},
   "outputs": [
    {
     "name": "stdout",
     "output_type": "stream",
     "text": [
      "<class 'pandas.core.frame.DataFrame'>\n",
      "Int64Index: 27321 entries, 267822 to 265371\n",
      "Data columns (total 81 columns):\n",
      " #   Column                       Non-Null Count  Dtype   \n",
      "---  ------                       --------------  -----   \n",
      " 0   COUNTYID                     27321 non-null  int64   \n",
      " 1   STATEID                      27321 non-null  int64   \n",
      " 2   state                        27321 non-null  object  \n",
      " 3   state_ab                     27321 non-null  object  \n",
      " 4   city                         27321 non-null  object  \n",
      " 5   place                        27321 non-null  object  \n",
      " 6   type                         27321 non-null  object  \n",
      " 7   primary                      27321 non-null  object  \n",
      " 8   zip_code                     27321 non-null  int64   \n",
      " 9   area_code                    27321 non-null  int64   \n",
      " 10  lat                          27321 non-null  float64 \n",
      " 11  lng                          27321 non-null  float64 \n",
      " 12  ALand                        27321 non-null  float64 \n",
      " 13  AWater                       27321 non-null  int64   \n",
      " 14  pop                          27321 non-null  int64   \n",
      " 15  male_pop                     27321 non-null  int64   \n",
      " 16  female_pop                   27321 non-null  int64   \n",
      " 17  rent_mean                    27321 non-null  float64 \n",
      " 18  rent_median                  27321 non-null  float64 \n",
      " 19  rent_stdev                   27321 non-null  float64 \n",
      " 20  rent_sample_weight           27321 non-null  float64 \n",
      " 21  rent_samples                 27321 non-null  float64 \n",
      " 22  rent_gt_10                   27321 non-null  float64 \n",
      " 23  rent_gt_15                   27321 non-null  float64 \n",
      " 24  rent_gt_20                   27321 non-null  float64 \n",
      " 25  rent_gt_25                   27321 non-null  float64 \n",
      " 26  rent_gt_30                   27321 non-null  float64 \n",
      " 27  rent_gt_35                   27321 non-null  float64 \n",
      " 28  rent_gt_40                   27321 non-null  float64 \n",
      " 29  rent_gt_50                   27321 non-null  float64 \n",
      " 30  universe_samples             27321 non-null  int64   \n",
      " 31  used_samples                 27321 non-null  int64   \n",
      " 32  hi_mean                      27321 non-null  float64 \n",
      " 33  hi_median                    27321 non-null  float64 \n",
      " 34  hi_stdev                     27321 non-null  float64 \n",
      " 35  hi_sample_weight             27321 non-null  float64 \n",
      " 36  hi_samples                   27321 non-null  float64 \n",
      " 37  family_mean                  27321 non-null  float64 \n",
      " 38  family_median                27321 non-null  float64 \n",
      " 39  family_stdev                 27321 non-null  float64 \n",
      " 40  family_sample_weight         27321 non-null  float64 \n",
      " 41  family_samples               27321 non-null  float64 \n",
      " 42  hc_mortgage_mean             27321 non-null  float64 \n",
      " 43  hc_mortgage_median           27321 non-null  float64 \n",
      " 44  hc_mortgage_stdev            27321 non-null  float64 \n",
      " 45  hc_mortgage_sample_weight    27321 non-null  float64 \n",
      " 46  hc_mortgage_samples          27321 non-null  float64 \n",
      " 47  hc_mean                      27321 non-null  float64 \n",
      " 48  hc_median                    27321 non-null  float64 \n",
      " 49  hc_stdev                     27321 non-null  float64 \n",
      " 50  hc_samples                   27321 non-null  float64 \n",
      " 51  hc_sample_weight             27321 non-null  float64 \n",
      " 52  home_equity_second_mortgage  27321 non-null  float64 \n",
      " 53  second_mortgage              27321 non-null  float64 \n",
      " 54  home_equity                  27321 non-null  float64 \n",
      " 55  debt                         27321 non-null  float64 \n",
      " 56  second_mortgage_cdf          27321 non-null  float64 \n",
      " 57  home_equity_cdf              27321 non-null  float64 \n",
      " 58  debt_cdf                     27321 non-null  float64 \n",
      " 59  hs_degree                    27321 non-null  float64 \n",
      " 60  hs_degree_male               27321 non-null  float64 \n",
      " 61  hs_degree_female             27321 non-null  float64 \n",
      " 62  male_age_mean                27321 non-null  float64 \n",
      " 63  male_age_median              27321 non-null  float64 \n",
      " 64  male_age_stdev               27321 non-null  float64 \n",
      " 65  male_age_sample_weight       27321 non-null  float64 \n",
      " 66  male_age_samples             27321 non-null  float64 \n",
      " 67  female_age_mean              27321 non-null  float64 \n",
      " 68  female_age_median            27321 non-null  float64 \n",
      " 69  female_age_stdev             27321 non-null  float64 \n",
      " 70  female_age_sample_weight     27321 non-null  float64 \n",
      " 71  female_age_samples           27321 non-null  float64 \n",
      " 72  pct_own                      27321 non-null  float64 \n",
      " 73  married                      27321 non-null  float64 \n",
      " 74  married_snp                  27321 non-null  float64 \n",
      " 75  separated                    27321 non-null  float64 \n",
      " 76  divorced                     27321 non-null  float64 \n",
      " 77  bad_debt                     27321 non-null  float64 \n",
      " 78  pop_density                  27321 non-null  float64 \n",
      " 79  age_median                   27321 non-null  float64 \n",
      " 80  pop_bins                     27321 non-null  category\n",
      "dtypes: category(1), float64(64), int64(10), object(6)\n",
      "memory usage: 18.2+ MB\n"
     ]
    }
   ],
   "source": [
    "train.info()"
   ]
  },
  {
   "cell_type": "code",
   "execution_count": 180,
   "metadata": {},
   "outputs": [
    {
     "data": {
      "text/html": [
       "<div>\n",
       "<style scoped>\n",
       "    .dataframe tbody tr th:only-of-type {\n",
       "        vertical-align: middle;\n",
       "    }\n",
       "\n",
       "    .dataframe tbody tr th {\n",
       "        vertical-align: top;\n",
       "    }\n",
       "\n",
       "    .dataframe thead th {\n",
       "        text-align: right;\n",
       "    }\n",
       "</style>\n",
       "<table border=\"1\" class=\"dataframe\">\n",
       "  <thead>\n",
       "    <tr style=\"text-align: right;\">\n",
       "      <th></th>\n",
       "      <th>COUNTYID</th>\n",
       "      <th>STATEID</th>\n",
       "      <th>zip_code</th>\n",
       "      <th>area_code</th>\n",
       "      <th>lat</th>\n",
       "      <th>lng</th>\n",
       "      <th>ALand</th>\n",
       "      <th>AWater</th>\n",
       "      <th>pop</th>\n",
       "      <th>male_pop</th>\n",
       "      <th>...</th>\n",
       "      <th>female_age_sample_weight</th>\n",
       "      <th>female_age_samples</th>\n",
       "      <th>pct_own</th>\n",
       "      <th>married</th>\n",
       "      <th>married_snp</th>\n",
       "      <th>separated</th>\n",
       "      <th>divorced</th>\n",
       "      <th>bad_debt</th>\n",
       "      <th>pop_density</th>\n",
       "      <th>age_median</th>\n",
       "    </tr>\n",
       "  </thead>\n",
       "  <tbody>\n",
       "    <tr>\n",
       "      <th>COUNTYID</th>\n",
       "      <td>1.000000</td>\n",
       "      <td>0.224549</td>\n",
       "      <td>0.036527</td>\n",
       "      <td>0.067171</td>\n",
       "      <td>-0.149272</td>\n",
       "      <td>0.070414</td>\n",
       "      <td>0.015469</td>\n",
       "      <td>0.016550</td>\n",
       "      <td>-0.002662</td>\n",
       "      <td>-0.002615</td>\n",
       "      <td>...</td>\n",
       "      <td>0.004587</td>\n",
       "      <td>-0.001227</td>\n",
       "      <td>-0.004632</td>\n",
       "      <td>-0.021428</td>\n",
       "      <td>0.041710</td>\n",
       "      <td>0.069059</td>\n",
       "      <td>0.048850</td>\n",
       "      <td>-0.125892</td>\n",
       "      <td>-0.080509</td>\n",
       "      <td>-0.063521</td>\n",
       "    </tr>\n",
       "    <tr>\n",
       "      <th>STATEID</th>\n",
       "      <td>0.224549</td>\n",
       "      <td>1.000000</td>\n",
       "      <td>-0.261465</td>\n",
       "      <td>0.043718</td>\n",
       "      <td>0.109934</td>\n",
       "      <td>0.319964</td>\n",
       "      <td>-0.017275</td>\n",
       "      <td>-0.026476</td>\n",
       "      <td>-0.036599</td>\n",
       "      <td>-0.040351</td>\n",
       "      <td>...</td>\n",
       "      <td>-0.025104</td>\n",
       "      <td>-0.028238</td>\n",
       "      <td>0.069314</td>\n",
       "      <td>0.025763</td>\n",
       "      <td>-0.033283</td>\n",
       "      <td>0.030409</td>\n",
       "      <td>0.018748</td>\n",
       "      <td>-0.151007</td>\n",
       "      <td>-0.013671</td>\n",
       "      <td>-0.017172</td>\n",
       "    </tr>\n",
       "    <tr>\n",
       "      <th>zip_code</th>\n",
       "      <td>0.036527</td>\n",
       "      <td>-0.261465</td>\n",
       "      <td>1.000000</td>\n",
       "      <td>-0.004681</td>\n",
       "      <td>-0.070775</td>\n",
       "      <td>-0.926708</td>\n",
       "      <td>0.072711</td>\n",
       "      <td>0.031679</td>\n",
       "      <td>0.083058</td>\n",
       "      <td>0.099959</td>\n",
       "      <td>...</td>\n",
       "      <td>0.055497</td>\n",
       "      <td>0.059305</td>\n",
       "      <td>-0.069965</td>\n",
       "      <td>0.030217</td>\n",
       "      <td>0.020541</td>\n",
       "      <td>-0.048023</td>\n",
       "      <td>0.043310</td>\n",
       "      <td>-0.069348</td>\n",
       "      <td>-0.119014</td>\n",
       "      <td>-0.126150</td>\n",
       "    </tr>\n",
       "    <tr>\n",
       "      <th>area_code</th>\n",
       "      <td>0.067171</td>\n",
       "      <td>0.043718</td>\n",
       "      <td>-0.004681</td>\n",
       "      <td>1.000000</td>\n",
       "      <td>-0.125415</td>\n",
       "      <td>-0.013494</td>\n",
       "      <td>0.016563</td>\n",
       "      <td>0.021711</td>\n",
       "      <td>0.031834</td>\n",
       "      <td>0.034387</td>\n",
       "      <td>...</td>\n",
       "      <td>0.029857</td>\n",
       "      <td>0.031128</td>\n",
       "      <td>0.018877</td>\n",
       "      <td>0.057824</td>\n",
       "      <td>0.022687</td>\n",
       "      <td>0.022543</td>\n",
       "      <td>-0.043722</td>\n",
       "      <td>-0.003658</td>\n",
       "      <td>-0.030743</td>\n",
       "      <td>-0.017118</td>\n",
       "    </tr>\n",
       "    <tr>\n",
       "      <th>lat</th>\n",
       "      <td>-0.149272</td>\n",
       "      <td>0.109934</td>\n",
       "      <td>-0.070775</td>\n",
       "      <td>-0.125415</td>\n",
       "      <td>1.000000</td>\n",
       "      <td>0.025450</td>\n",
       "      <td>0.100498</td>\n",
       "      <td>0.067660</td>\n",
       "      <td>-0.078283</td>\n",
       "      <td>-0.072763</td>\n",
       "      <td>...</td>\n",
       "      <td>-0.080855</td>\n",
       "      <td>-0.087667</td>\n",
       "      <td>0.056487</td>\n",
       "      <td>0.035480</td>\n",
       "      <td>-0.158657</td>\n",
       "      <td>-0.138048</td>\n",
       "      <td>-0.056018</td>\n",
       "      <td>0.208792</td>\n",
       "      <td>0.054513</td>\n",
       "      <td>0.008246</td>\n",
       "    </tr>\n",
       "    <tr>\n",
       "      <th>...</th>\n",
       "      <td>...</td>\n",
       "      <td>...</td>\n",
       "      <td>...</td>\n",
       "      <td>...</td>\n",
       "      <td>...</td>\n",
       "      <td>...</td>\n",
       "      <td>...</td>\n",
       "      <td>...</td>\n",
       "      <td>...</td>\n",
       "      <td>...</td>\n",
       "      <td>...</td>\n",
       "      <td>...</td>\n",
       "      <td>...</td>\n",
       "      <td>...</td>\n",
       "      <td>...</td>\n",
       "      <td>...</td>\n",
       "      <td>...</td>\n",
       "      <td>...</td>\n",
       "      <td>...</td>\n",
       "      <td>...</td>\n",
       "      <td>...</td>\n",
       "    </tr>\n",
       "    <tr>\n",
       "      <th>separated</th>\n",
       "      <td>0.069059</td>\n",
       "      <td>0.030409</td>\n",
       "      <td>-0.048023</td>\n",
       "      <td>0.022543</td>\n",
       "      <td>-0.138048</td>\n",
       "      <td>0.049228</td>\n",
       "      <td>-0.005904</td>\n",
       "      <td>-0.001208</td>\n",
       "      <td>-0.083182</td>\n",
       "      <td>-0.074929</td>\n",
       "      <td>...</td>\n",
       "      <td>-0.091913</td>\n",
       "      <td>-0.088709</td>\n",
       "      <td>-0.284877</td>\n",
       "      <td>-0.219686</td>\n",
       "      <td>0.668481</td>\n",
       "      <td>1.000000</td>\n",
       "      <td>0.133244</td>\n",
       "      <td>-0.151824</td>\n",
       "      <td>0.094859</td>\n",
       "      <td>-0.116763</td>\n",
       "    </tr>\n",
       "    <tr>\n",
       "      <th>divorced</th>\n",
       "      <td>0.048850</td>\n",
       "      <td>0.018748</td>\n",
       "      <td>0.043310</td>\n",
       "      <td>-0.043722</td>\n",
       "      <td>-0.056018</td>\n",
       "      <td>-0.004321</td>\n",
       "      <td>0.023381</td>\n",
       "      <td>0.007677</td>\n",
       "      <td>-0.160931</td>\n",
       "      <td>-0.146619</td>\n",
       "      <td>...</td>\n",
       "      <td>-0.198491</td>\n",
       "      <td>-0.169450</td>\n",
       "      <td>-0.095413</td>\n",
       "      <td>-0.267833</td>\n",
       "      <td>0.057364</td>\n",
       "      <td>0.133244</td>\n",
       "      <td>1.000000</td>\n",
       "      <td>-0.210203</td>\n",
       "      <td>-0.155328</td>\n",
       "      <td>0.164205</td>\n",
       "    </tr>\n",
       "    <tr>\n",
       "      <th>bad_debt</th>\n",
       "      <td>-0.125892</td>\n",
       "      <td>-0.151007</td>\n",
       "      <td>-0.069348</td>\n",
       "      <td>-0.003658</td>\n",
       "      <td>0.208792</td>\n",
       "      <td>-0.005876</td>\n",
       "      <td>-0.079618</td>\n",
       "      <td>-0.024112</td>\n",
       "      <td>0.099489</td>\n",
       "      <td>0.092085</td>\n",
       "      <td>...</td>\n",
       "      <td>0.078159</td>\n",
       "      <td>0.104039</td>\n",
       "      <td>0.134257</td>\n",
       "      <td>0.182985</td>\n",
       "      <td>-0.151008</td>\n",
       "      <td>-0.151824</td>\n",
       "      <td>-0.210203</td>\n",
       "      <td>1.000000</td>\n",
       "      <td>-0.005871</td>\n",
       "      <td>0.058892</td>\n",
       "    </tr>\n",
       "    <tr>\n",
       "      <th>pop_density</th>\n",
       "      <td>-0.080509</td>\n",
       "      <td>-0.013671</td>\n",
       "      <td>-0.119014</td>\n",
       "      <td>-0.030743</td>\n",
       "      <td>0.054513</td>\n",
       "      <td>0.066056</td>\n",
       "      <td>-0.044934</td>\n",
       "      <td>-0.013174</td>\n",
       "      <td>0.033740</td>\n",
       "      <td>0.020651</td>\n",
       "      <td>...</td>\n",
       "      <td>0.046016</td>\n",
       "      <td>0.040268</td>\n",
       "      <td>-0.426353</td>\n",
       "      <td>-0.248678</td>\n",
       "      <td>0.212778</td>\n",
       "      <td>0.094859</td>\n",
       "      <td>-0.155328</td>\n",
       "      <td>-0.005871</td>\n",
       "      <td>1.000000</td>\n",
       "      <td>-0.198546</td>\n",
       "    </tr>\n",
       "    <tr>\n",
       "      <th>age_median</th>\n",
       "      <td>-0.063521</td>\n",
       "      <td>-0.017172</td>\n",
       "      <td>-0.126150</td>\n",
       "      <td>-0.017118</td>\n",
       "      <td>0.008246</td>\n",
       "      <td>0.104944</td>\n",
       "      <td>0.042532</td>\n",
       "      <td>0.004878</td>\n",
       "      <td>-0.162499</td>\n",
       "      <td>-0.166810</td>\n",
       "      <td>...</td>\n",
       "      <td>-0.246096</td>\n",
       "      <td>-0.153775</td>\n",
       "      <td>0.546692</td>\n",
       "      <td>0.495153</td>\n",
       "      <td>-0.190105</td>\n",
       "      <td>-0.116763</td>\n",
       "      <td>0.164205</td>\n",
       "      <td>0.058892</td>\n",
       "      <td>-0.198546</td>\n",
       "      <td>1.000000</td>\n",
       "    </tr>\n",
       "  </tbody>\n",
       "</table>\n",
       "<p>74 rows × 74 columns</p>\n",
       "</div>"
      ],
      "text/plain": [
       "             COUNTYID   STATEID  zip_code  area_code       lat       lng  \\\n",
       "COUNTYID     1.000000  0.224549  0.036527   0.067171 -0.149272  0.070414   \n",
       "STATEID      0.224549  1.000000 -0.261465   0.043718  0.109934  0.319964   \n",
       "zip_code     0.036527 -0.261465  1.000000  -0.004681 -0.070775 -0.926708   \n",
       "area_code    0.067171  0.043718 -0.004681   1.000000 -0.125415 -0.013494   \n",
       "lat         -0.149272  0.109934 -0.070775  -0.125415  1.000000  0.025450   \n",
       "...               ...       ...       ...        ...       ...       ...   \n",
       "separated    0.069059  0.030409 -0.048023   0.022543 -0.138048  0.049228   \n",
       "divorced     0.048850  0.018748  0.043310  -0.043722 -0.056018 -0.004321   \n",
       "bad_debt    -0.125892 -0.151007 -0.069348  -0.003658  0.208792 -0.005876   \n",
       "pop_density -0.080509 -0.013671 -0.119014  -0.030743  0.054513  0.066056   \n",
       "age_median  -0.063521 -0.017172 -0.126150  -0.017118  0.008246  0.104944   \n",
       "\n",
       "                ALand    AWater       pop  male_pop  ...  \\\n",
       "COUNTYID     0.015469  0.016550 -0.002662 -0.002615  ...   \n",
       "STATEID     -0.017275 -0.026476 -0.036599 -0.040351  ...   \n",
       "zip_code     0.072711  0.031679  0.083058  0.099959  ...   \n",
       "area_code    0.016563  0.021711  0.031834  0.034387  ...   \n",
       "lat          0.100498  0.067660 -0.078283 -0.072763  ...   \n",
       "...               ...       ...       ...       ...  ...   \n",
       "separated   -0.005904 -0.001208 -0.083182 -0.074929  ...   \n",
       "divorced     0.023381  0.007677 -0.160931 -0.146619  ...   \n",
       "bad_debt    -0.079618 -0.024112  0.099489  0.092085  ...   \n",
       "pop_density -0.044934 -0.013174  0.033740  0.020651  ...   \n",
       "age_median   0.042532  0.004878 -0.162499 -0.166810  ...   \n",
       "\n",
       "             female_age_sample_weight  female_age_samples   pct_own   married  \\\n",
       "COUNTYID                     0.004587           -0.001227 -0.004632 -0.021428   \n",
       "STATEID                     -0.025104           -0.028238  0.069314  0.025763   \n",
       "zip_code                     0.055497            0.059305 -0.069965  0.030217   \n",
       "area_code                    0.029857            0.031128  0.018877  0.057824   \n",
       "lat                         -0.080855           -0.087667  0.056487  0.035480   \n",
       "...                               ...                 ...       ...       ...   \n",
       "separated                   -0.091913           -0.088709 -0.284877 -0.219686   \n",
       "divorced                    -0.198491           -0.169450 -0.095413 -0.267833   \n",
       "bad_debt                     0.078159            0.104039  0.134257  0.182985   \n",
       "pop_density                  0.046016            0.040268 -0.426353 -0.248678   \n",
       "age_median                  -0.246096           -0.153775  0.546692  0.495153   \n",
       "\n",
       "             married_snp  separated  divorced  bad_debt  pop_density  \\\n",
       "COUNTYID        0.041710   0.069059  0.048850 -0.125892    -0.080509   \n",
       "STATEID        -0.033283   0.030409  0.018748 -0.151007    -0.013671   \n",
       "zip_code        0.020541  -0.048023  0.043310 -0.069348    -0.119014   \n",
       "area_code       0.022687   0.022543 -0.043722 -0.003658    -0.030743   \n",
       "lat            -0.158657  -0.138048 -0.056018  0.208792     0.054513   \n",
       "...                  ...        ...       ...       ...          ...   \n",
       "separated       0.668481   1.000000  0.133244 -0.151824     0.094859   \n",
       "divorced        0.057364   0.133244  1.000000 -0.210203    -0.155328   \n",
       "bad_debt       -0.151008  -0.151824 -0.210203  1.000000    -0.005871   \n",
       "pop_density     0.212778   0.094859 -0.155328 -0.005871     1.000000   \n",
       "age_median     -0.190105  -0.116763  0.164205  0.058892    -0.198546   \n",
       "\n",
       "             age_median  \n",
       "COUNTYID      -0.063521  \n",
       "STATEID       -0.017172  \n",
       "zip_code      -0.126150  \n",
       "area_code     -0.017118  \n",
       "lat            0.008246  \n",
       "...                 ...  \n",
       "separated     -0.116763  \n",
       "divorced       0.164205  \n",
       "bad_debt       0.058892  \n",
       "pop_density   -0.198546  \n",
       "age_median     1.000000  \n",
       "\n",
       "[74 rows x 74 columns]"
      ]
     },
     "execution_count": 180,
     "metadata": {},
     "output_type": "execute_result"
    }
   ],
   "source": [
    "num.corr()"
   ]
  },
  {
   "cell_type": "code",
   "execution_count": 181,
   "metadata": {},
   "outputs": [],
   "source": [
    "cols=train.corr().nlargest(10,'hc_mortgage_mean')"
   ]
  },
  {
   "cell_type": "code",
   "execution_count": 182,
   "metadata": {},
   "outputs": [
    {
     "data": {
      "text/plain": [
       "<AxesSubplot:>"
      ]
     },
     "execution_count": 182,
     "metadata": {},
     "output_type": "execute_result"
    },
    {
     "data": {
      "image/png": "[encoded data removed]",
      "text/plain": [
       "<Figure size 1800x1080 with 2 Axes>"
      ]
     },
     "metadata": {
      "needs_background": "light"
     },
     "output_type": "display_data"
    }
   ],
   "source": [
    "plt.figure(figsize=(25,15))\n",
    "sns.heatmap(cols,annot=True)"
   ]
  },
  {
   "cell_type": "code",
   "execution_count": 184,
   "metadata": {},
   "outputs": [],
   "source": [
    "#Data Pre-processing:"
   ]
  },
  {
   "cell_type": "code",
   "execution_count": 185,
   "metadata": {},
   "outputs": [
    {
     "name": "stdout",
     "output_type": "stream",
     "text": [
      "Defaulting to user installation because normal site-packages is not writeable\n",
      "Requirement already satisfied: factor_analyzer in /home/labsuser/.local/lib/python3.7/site-packages (0.4.1)\n",
      "Requirement already satisfied: scipy in /usr/local/lib/python3.7/site-packages (from factor_analyzer) (1.4.1)\n",
      "Requirement already satisfied: scikit-learn in /usr/local/lib/python3.7/site-packages (from factor_analyzer) (1.0.2)\n",
      "Requirement already satisfied: numpy in /usr/local/lib/python3.7/site-packages (from factor_analyzer) (1.21.5)\n",
      "Requirement already satisfied: pre-commit in /home/labsuser/.local/lib/python3.7/site-packages (from factor_analyzer) (2.20.0)\n",
      "Requirement already satisfied: pandas in /usr/local/lib/python3.7/site-packages (from factor_analyzer) (1.1.5)\n",
      "Requirement already satisfied: python-dateutil>=2.7.3 in /usr/local/lib/python3.7/site-packages (from pandas->factor_analyzer) (2.8.1)\n",
      "Requirement already satisfied: pytz>=2017.2 in /usr/local/lib/python3.7/site-packages (from pandas->factor_analyzer) (2019.3)\n",
      "Requirement already satisfied: pyyaml>=5.1 in /usr/local/lib/python3.7/site-packages (from pre-commit->factor_analyzer) (5.3.1)\n",
      "Requirement already satisfied: nodeenv>=0.11.1 in /home/labsuser/.local/lib/python3.7/site-packages (from pre-commit->factor_analyzer) (1.7.0)\n",
      "Requirement already satisfied: identify>=1.0.0 in /home/labsuser/.local/lib/python3.7/site-packages (from pre-commit->factor_analyzer) (2.5.9)\n",
      "Requirement already satisfied: virtualenv>=20.0.8 in /home/labsuser/.local/lib/python3.7/site-packages (from pre-commit->factor_analyzer) (20.16.7)\n",
      "Requirement already satisfied: toml in /usr/local/lib/python3.7/site-packages (from pre-commit->factor_analyzer) (0.10.0)\n",
      "Requirement already satisfied: importlib-metadata in /usr/local/lib/python3.7/site-packages (from pre-commit->factor_analyzer) (1.6.0)\n",
      "Requirement already satisfied: cfgv>=2.0.0 in /home/labsuser/.local/lib/python3.7/site-packages (from pre-commit->factor_analyzer) (3.3.1)\n",
      "Requirement already satisfied: threadpoolctl>=2.0.0 in /usr/local/lib/python3.7/site-packages (from scikit-learn->factor_analyzer) (2.2.0)\n",
      "Requirement already satisfied: joblib>=0.11 in /usr/local/lib/python3.7/site-packages (from scikit-learn->factor_analyzer) (0.14.1)\n",
      "Requirement already satisfied: setuptools in /usr/local/lib/python3.7/site-packages (from nodeenv>=0.11.1->pre-commit->factor_analyzer) (41.2.0)\n",
      "Requirement already satisfied: six>=1.5 in /usr/local/lib/python3.7/site-packages (from python-dateutil>=2.7.3->pandas->factor_analyzer) (1.14.0)\n",
      "Requirement already satisfied: distlib<1,>=0.3.6 in /home/labsuser/.local/lib/python3.7/site-packages (from virtualenv>=20.0.8->pre-commit->factor_analyzer) (0.3.6)\n",
      "Collecting importlib-metadata\n",
      "  Downloading importlib_metadata-6.6.0-py3-none-any.whl (22 kB)\n",
      "Requirement already satisfied: platformdirs<3,>=2.4 in /home/labsuser/.local/lib/python3.7/site-packages (from virtualenv>=20.0.8->pre-commit->factor_analyzer) (2.5.4)\n",
      "Collecting filelock<4,>=3.4.1\n",
      "  Downloading filelock-3.12.2-py3-none-any.whl (10 kB)\n",
      "Requirement already satisfied: zipp>=0.5 in /usr/local/lib/python3.7/site-packages (from importlib-metadata->pre-commit->factor_analyzer) (3.1.0)\n",
      "Requirement already satisfied: typing-extensions>=3.6.4 in /usr/local/lib/python3.7/site-packages (from importlib-metadata->pre-commit->factor_analyzer) (4.0.1)\n",
      "Installing collected packages: importlib-metadata, filelock\n",
      "\u001b[31mERROR: pip's dependency resolver does not currently take into account all the packages that are installed. This behaviour is the source of the following dependency conflicts.\n",
      "konoha 4.6.5 requires overrides<4.0.0,>=3.0.0, which is not installed.\n",
      "flair 0.8.1 requires more-itertools~=8.8.0, but you have more-itertools 8.2.0 which is incompatible.\n",
      "konoha 4.6.5 requires importlib-metadata<4.0.0,>=3.7.0, but you have importlib-metadata 6.6.0 which is incompatible.\n",
      "konoha 4.6.5 requires requests<3.0.0,>=2.25.1, but you have requests 2.23.0 which is incompatible.\u001b[0m\u001b[31m\n",
      "\u001b[0mSuccessfully installed filelock-3.12.2 importlib-metadata-6.6.0\n",
      "\u001b[33mWARNING: You are using pip version 22.0.3; however, version 23.1.2 is available.\n",
      "You should consider upgrading via the '/usr/local/bin/python3.7 -m pip install --upgrade pip' command.\u001b[0m\u001b[33m\n",
      "\u001b[0mNote: you may need to restart the kernel to use updated packages.\n"
     ]
    }
   ],
   "source": [
    "pip install factor_analyzer"
   ]
  },
  {
   "cell_type": "code",
   "execution_count": 186,
   "metadata": {},
   "outputs": [],
   "source": [
    "from factor_analyzer import FactorAnalyzer"
   ]
  },
  {
   "cell_type": "code",
   "execution_count": 187,
   "metadata": {},
   "outputs": [],
   "source": [
    "fa=FactorAnalyzer(n_factors=5)"
   ]
  },
  {
   "cell_type": "code",
   "execution_count": 189,
   "metadata": {},
   "outputs": [
    {
     "data": {
      "text/plain": [
       "array([[-0.41205343,  0.51294274,  0.87903004, -1.11001903,  0.35041992],\n",
       "       [-1.04824274, -0.50174344, -0.39507676,  0.081311  ,  0.32595819],\n",
       "       [ 0.11209985,  1.26467376,  0.76773891, -0.47930207, -0.36363692],\n",
       "       ...,\n",
       "       [-0.02669751, -0.75106047,  0.77972285, -1.39880081,  0.03865004],\n",
       "       [ 2.53195117,  3.0676096 ,  1.45490888, -0.07337594, -1.50506532],\n",
       "       [-0.1992642 ,  0.01415226, -1.23527594,  0.25760531, -0.04155054]])"
      ]
     },
     "execution_count": 189,
     "metadata": {},
     "output_type": "execute_result"
    }
   ],
   "source": [
    "fa.fit_transform(train.select_dtypes(exclude=('object','category')))"
   ]
  },
  {
   "cell_type": "code",
   "execution_count": 190,
   "metadata": {},
   "outputs": [],
   "source": [
    "#Data Modeling :"
   ]
  },
  {
   "cell_type": "code",
   "execution_count": 191,
   "metadata": {},
   "outputs": [
    {
     "data": {
      "text/plain": [
       "Index(['COUNTYID', 'STATEID', 'state', 'state_ab', 'city', 'place', 'type',\n",
       "       'primary', 'zip_code', 'area_code', 'lat', 'lng', 'ALand', 'AWater',\n",
       "       'pop', 'male_pop', 'female_pop', 'rent_mean', 'rent_median',\n",
       "       'rent_stdev', 'rent_sample_weight', 'rent_samples', 'rent_gt_10',\n",
       "       'rent_gt_15', 'rent_gt_20', 'rent_gt_25', 'rent_gt_30', 'rent_gt_35',\n",
       "       'rent_gt_40', 'rent_gt_50', 'universe_samples', 'used_samples',\n",
       "       'hi_mean', 'hi_median', 'hi_stdev', 'hi_sample_weight', 'hi_samples',\n",
       "       'family_mean', 'family_median', 'family_stdev', 'family_sample_weight',\n",
       "       'family_samples', 'hc_mortgage_mean', 'hc_mortgage_median',\n",
       "       'hc_mortgage_stdev', 'hc_mortgage_sample_weight', 'hc_mortgage_samples',\n",
       "       'hc_mean', 'hc_median', 'hc_stdev', 'hc_samples', 'hc_sample_weight',\n",
       "       'home_equity_second_mortgage', 'second_mortgage', 'home_equity', 'debt',\n",
       "       'second_mortgage_cdf', 'home_equity_cdf', 'debt_cdf', 'hs_degree',\n",
       "       'hs_degree_male', 'hs_degree_female', 'male_age_mean',\n",
       "       'male_age_median', 'male_age_stdev', 'male_age_sample_weight',\n",
       "       'male_age_samples', 'female_age_mean', 'female_age_median',\n",
       "       'female_age_stdev', 'female_age_sample_weight', 'female_age_samples',\n",
       "       'pct_own', 'married', 'married_snp', 'separated', 'divorced',\n",
       "       'bad_debt', 'pop_density', 'age_median', 'pop_bins'],\n",
       "      dtype='object')"
      ]
     },
     "execution_count": 191,
     "metadata": {},
     "output_type": "execute_result"
    }
   ],
   "source": [
    "train.columns"
   ]
  },
  {
   "cell_type": "code",
   "execution_count": 193,
   "metadata": {},
   "outputs": [
    {
     "data": {
      "text/plain": [
       "UID\n",
       "267822       City\n",
       "246444       City\n",
       "245683       City\n",
       "279653      Urban\n",
       "247218       City\n",
       "           ...   \n",
       "279212      Urban\n",
       "277856    Borough\n",
       "233000       City\n",
       "287425       Town\n",
       "265371       City\n",
       "Name: type, Length: 27321, dtype: object"
      ]
     },
     "execution_count": 193,
     "metadata": {},
     "output_type": "execute_result"
    }
   ],
   "source": [
    "train['type']"
   ]
  },
  {
   "cell_type": "code",
   "execution_count": 194,
   "metadata": {},
   "outputs": [],
   "source": [
    "# convert type column into numerical data \n",
    "train.replace({'City':1,'Town':2,'CDP':3,'Village':4,'Borough':5,'Urban':6},inplace=True)"
   ]
  },
  {
   "cell_type": "code",
   "execution_count": 195,
   "metadata": {},
   "outputs": [
    {
     "data": {
      "text/plain": [
       "1    15237\n",
       "2     3666\n",
       "3     3658\n",
       "4     3216\n",
       "5     1226\n",
       "6      318\n",
       "Name: type, dtype: int64"
      ]
     },
     "execution_count": 195,
     "metadata": {},
     "output_type": "execute_result"
    }
   ],
   "source": [
    "train['type'].value_counts()"
   ]
  },
  {
   "cell_type": "code",
   "execution_count": 198,
   "metadata": {
    "tags": []
   },
   "outputs": [],
   "source": [
    "test.replace({'City':1,'Town':2,'CDP':3,'Village':4,'Borough':5,'Urban':6},inplace=True)"
   ]
  },
  {
   "cell_type": "code",
   "execution_count": 200,
   "metadata": {
    "tags": []
   },
   "outputs": [
    {
     "data": {
      "text/plain": [
       "1    6481\n",
       "2    1634\n",
       "3    1558\n",
       "4    1356\n",
       "5     509\n",
       "6     171\n",
       "Name: type, dtype: int64"
      ]
     },
     "execution_count": 200,
     "metadata": {},
     "output_type": "execute_result"
    }
   ],
   "source": [
    "test['type'].value_counts()"
   ]
  },
  {
   "cell_type": "code",
   "execution_count": 202,
   "metadata": {},
   "outputs": [
    {
     "data": {
      "text/plain": [
       "Index(['COUNTYID', 'STATEID', 'state', 'state_ab', 'city', 'place', 'type',\n",
       "       'primary', 'zip_code', 'area_code', 'lat', 'lng', 'ALand', 'AWater',\n",
       "       'pop', 'male_pop', 'female_pop', 'rent_mean', 'rent_median',\n",
       "       'rent_stdev', 'rent_sample_weight', 'rent_samples', 'rent_gt_10',\n",
       "       'rent_gt_15', 'rent_gt_20', 'rent_gt_25', 'rent_gt_30', 'rent_gt_35',\n",
       "       'rent_gt_40', 'rent_gt_50', 'universe_samples', 'used_samples',\n",
       "       'hi_mean', 'hi_median', 'hi_stdev', 'hi_sample_weight', 'hi_samples',\n",
       "       'family_mean', 'family_median', 'family_stdev', 'family_sample_weight',\n",
       "       'family_samples', 'hc_mortgage_mean', 'hc_mortgage_median',\n",
       "       'hc_mortgage_stdev', 'hc_mortgage_sample_weight', 'hc_mortgage_samples',\n",
       "       'hc_mean', 'hc_median', 'hc_stdev', 'hc_samples', 'hc_sample_weight',\n",
       "       'home_equity_second_mortgage', 'second_mortgage', 'home_equity', 'debt',\n",
       "       'second_mortgage_cdf', 'home_equity_cdf', 'debt_cdf', 'hs_degree',\n",
       "       'hs_degree_male', 'hs_degree_female', 'male_age_mean',\n",
       "       'male_age_median', 'male_age_stdev', 'male_age_sample_weight',\n",
       "       'male_age_samples', 'female_age_mean', 'female_age_median',\n",
       "       'female_age_stdev', 'female_age_sample_weight', 'female_age_samples',\n",
       "       'pct_own', 'married', 'married_snp', 'separated', 'divorced',\n",
       "       'bad_debt', 'pop_density', 'age_median', 'pop_bins'],\n",
       "      dtype='object')"
      ]
     },
     "execution_count": 202,
     "metadata": {},
     "output_type": "execute_result"
    }
   ],
   "source": [
    "train.columns"
   ]
  },
  {
   "cell_type": "code",
   "execution_count": 203,
   "metadata": {},
   "outputs": [],
   "source": [
    "input_cols=['COUNTYID', 'STATEID','type','zip_code','pop','family_mean','second_mortgage', 'home_equity','debt','hs_degree','age_median','pct_own','married','separated', 'divorced']"
   ]
  },
  {
   "cell_type": "code",
   "execution_count": 204,
   "metadata": {},
   "outputs": [],
   "source": [
    "x_train=train[input_cols]"
   ]
  },
  {
   "cell_type": "code",
   "execution_count": 205,
   "metadata": {},
   "outputs": [
    {
     "data": {
      "text/html": [
       "<div>\n",
       "<style scoped>\n",
       "    .dataframe tbody tr th:only-of-type {\n",
       "        vertical-align: middle;\n",
       "    }\n",
       "\n",
       "    .dataframe tbody tr th {\n",
       "        vertical-align: top;\n",
       "    }\n",
       "\n",
       "    .dataframe thead th {\n",
       "        text-align: right;\n",
       "    }\n",
       "</style>\n",
       "<table border=\"1\" class=\"dataframe\">\n",
       "  <thead>\n",
       "    <tr style=\"text-align: right;\">\n",
       "      <th></th>\n",
       "      <th>COUNTYID</th>\n",
       "      <th>STATEID</th>\n",
       "      <th>type</th>\n",
       "      <th>zip_code</th>\n",
       "      <th>pop</th>\n",
       "      <th>family_mean</th>\n",
       "      <th>second_mortgage</th>\n",
       "      <th>home_equity</th>\n",
       "      <th>debt</th>\n",
       "      <th>hs_degree</th>\n",
       "      <th>age_median</th>\n",
       "      <th>pct_own</th>\n",
       "      <th>married</th>\n",
       "      <th>separated</th>\n",
       "      <th>divorced</th>\n",
       "    </tr>\n",
       "    <tr>\n",
       "      <th>UID</th>\n",
       "      <th></th>\n",
       "      <th></th>\n",
       "      <th></th>\n",
       "      <th></th>\n",
       "      <th></th>\n",
       "      <th></th>\n",
       "      <th></th>\n",
       "      <th></th>\n",
       "      <th></th>\n",
       "      <th></th>\n",
       "      <th></th>\n",
       "      <th></th>\n",
       "      <th></th>\n",
       "      <th></th>\n",
       "      <th></th>\n",
       "    </tr>\n",
       "  </thead>\n",
       "  <tbody>\n",
       "    <tr>\n",
       "      <th>267822</th>\n",
       "      <td>53</td>\n",
       "      <td>36</td>\n",
       "      <td>1</td>\n",
       "      <td>13346</td>\n",
       "      <td>5230</td>\n",
       "      <td>67994.14790</td>\n",
       "      <td>0.02077</td>\n",
       "      <td>0.08919</td>\n",
       "      <td>0.52963</td>\n",
       "      <td>0.89288</td>\n",
       "      <td>44.666665</td>\n",
       "      <td>0.79046</td>\n",
       "      <td>0.57851</td>\n",
       "      <td>0.01240</td>\n",
       "      <td>0.08770</td>\n",
       "    </tr>\n",
       "    <tr>\n",
       "      <th>246444</th>\n",
       "      <td>141</td>\n",
       "      <td>18</td>\n",
       "      <td>1</td>\n",
       "      <td>46616</td>\n",
       "      <td>2633</td>\n",
       "      <td>50670.10337</td>\n",
       "      <td>0.02222</td>\n",
       "      <td>0.04274</td>\n",
       "      <td>0.60855</td>\n",
       "      <td>0.90487</td>\n",
       "      <td>34.791665</td>\n",
       "      <td>0.52483</td>\n",
       "      <td>0.34886</td>\n",
       "      <td>0.01426</td>\n",
       "      <td>0.09030</td>\n",
       "    </tr>\n",
       "    <tr>\n",
       "      <th>245683</th>\n",
       "      <td>63</td>\n",
       "      <td>18</td>\n",
       "      <td>1</td>\n",
       "      <td>46122</td>\n",
       "      <td>6881</td>\n",
       "      <td>95262.51431</td>\n",
       "      <td>0.00000</td>\n",
       "      <td>0.09512</td>\n",
       "      <td>0.73484</td>\n",
       "      <td>0.94288</td>\n",
       "      <td>41.833330</td>\n",
       "      <td>0.85331</td>\n",
       "      <td>0.64745</td>\n",
       "      <td>0.01607</td>\n",
       "      <td>0.10657</td>\n",
       "    </tr>\n",
       "    <tr>\n",
       "      <th>279653</th>\n",
       "      <td>127</td>\n",
       "      <td>72</td>\n",
       "      <td>6</td>\n",
       "      <td>927</td>\n",
       "      <td>2700</td>\n",
       "      <td>56401.68133</td>\n",
       "      <td>0.01086</td>\n",
       "      <td>0.01086</td>\n",
       "      <td>0.52714</td>\n",
       "      <td>0.91500</td>\n",
       "      <td>49.750000</td>\n",
       "      <td>0.65037</td>\n",
       "      <td>0.47257</td>\n",
       "      <td>0.02021</td>\n",
       "      <td>0.10106</td>\n",
       "    </tr>\n",
       "    <tr>\n",
       "      <th>247218</th>\n",
       "      <td>161</td>\n",
       "      <td>20</td>\n",
       "      <td>1</td>\n",
       "      <td>66502</td>\n",
       "      <td>5637</td>\n",
       "      <td>54053.42396</td>\n",
       "      <td>0.05426</td>\n",
       "      <td>0.05426</td>\n",
       "      <td>0.51938</td>\n",
       "      <td>1.00000</td>\n",
       "      <td>22.000000</td>\n",
       "      <td>0.13046</td>\n",
       "      <td>0.12356</td>\n",
       "      <td>0.00000</td>\n",
       "      <td>0.03109</td>\n",
       "    </tr>\n",
       "    <tr>\n",
       "      <th>...</th>\n",
       "      <td>...</td>\n",
       "      <td>...</td>\n",
       "      <td>...</td>\n",
       "      <td>...</td>\n",
       "      <td>...</td>\n",
       "      <td>...</td>\n",
       "      <td>...</td>\n",
       "      <td>...</td>\n",
       "      <td>...</td>\n",
       "      <td>...</td>\n",
       "      <td>...</td>\n",
       "      <td>...</td>\n",
       "      <td>...</td>\n",
       "      <td>...</td>\n",
       "      <td>...</td>\n",
       "    </tr>\n",
       "    <tr>\n",
       "      <th>279212</th>\n",
       "      <td>43</td>\n",
       "      <td>72</td>\n",
       "      <td>6</td>\n",
       "      <td>769</td>\n",
       "      <td>1847</td>\n",
       "      <td>20889.14617</td>\n",
       "      <td>0.00000</td>\n",
       "      <td>0.00000</td>\n",
       "      <td>0.11694</td>\n",
       "      <td>0.60155</td>\n",
       "      <td>40.916670</td>\n",
       "      <td>0.60422</td>\n",
       "      <td>0.24603</td>\n",
       "      <td>0.02249</td>\n",
       "      <td>0.14683</td>\n",
       "    </tr>\n",
       "    <tr>\n",
       "      <th>277856</th>\n",
       "      <td>91</td>\n",
       "      <td>42</td>\n",
       "      <td>5</td>\n",
       "      <td>19422</td>\n",
       "      <td>4155</td>\n",
       "      <td>118896.06830</td>\n",
       "      <td>0.02112</td>\n",
       "      <td>0.19641</td>\n",
       "      <td>0.65364</td>\n",
       "      <td>0.95737</td>\n",
       "      <td>39.166665</td>\n",
       "      <td>0.68072</td>\n",
       "      <td>0.61127</td>\n",
       "      <td>0.02473</td>\n",
       "      <td>0.04888</td>\n",
       "    </tr>\n",
       "    <tr>\n",
       "      <th>233000</th>\n",
       "      <td>87</td>\n",
       "      <td>8</td>\n",
       "      <td>1</td>\n",
       "      <td>80653</td>\n",
       "      <td>2829</td>\n",
       "      <td>88878.57034</td>\n",
       "      <td>0.02024</td>\n",
       "      <td>0.07857</td>\n",
       "      <td>0.58095</td>\n",
       "      <td>0.93555</td>\n",
       "      <td>44.166665</td>\n",
       "      <td>0.78508</td>\n",
       "      <td>0.70451</td>\n",
       "      <td>0.00520</td>\n",
       "      <td>0.07712</td>\n",
       "    </tr>\n",
       "    <tr>\n",
       "      <th>287425</th>\n",
       "      <td>439</td>\n",
       "      <td>48</td>\n",
       "      <td>2</td>\n",
       "      <td>76034</td>\n",
       "      <td>11542</td>\n",
       "      <td>167148.83770</td>\n",
       "      <td>0.07550</td>\n",
       "      <td>0.12556</td>\n",
       "      <td>0.65722</td>\n",
       "      <td>0.98540</td>\n",
       "      <td>45.041670</td>\n",
       "      <td>0.93970</td>\n",
       "      <td>0.75503</td>\n",
       "      <td>0.00915</td>\n",
       "      <td>0.05261</td>\n",
       "    </tr>\n",
       "    <tr>\n",
       "      <th>265371</th>\n",
       "      <td>3</td>\n",
       "      <td>32</td>\n",
       "      <td>1</td>\n",
       "      <td>89123</td>\n",
       "      <td>3726</td>\n",
       "      <td>54886.07827</td>\n",
       "      <td>0.01412</td>\n",
       "      <td>0.18362</td>\n",
       "      <td>0.65537</td>\n",
       "      <td>0.87370</td>\n",
       "      <td>31.166665</td>\n",
       "      <td>0.27912</td>\n",
       "      <td>0.34426</td>\n",
       "      <td>0.03005</td>\n",
       "      <td>0.13320</td>\n",
       "    </tr>\n",
       "  </tbody>\n",
       "</table>\n",
       "<p>27321 rows × 15 columns</p>\n",
       "</div>"
      ],
      "text/plain": [
       "        COUNTYID  STATEID  type  zip_code    pop   family_mean  \\\n",
       "UID                                                              \n",
       "267822        53       36     1     13346   5230   67994.14790   \n",
       "246444       141       18     1     46616   2633   50670.10337   \n",
       "245683        63       18     1     46122   6881   95262.51431   \n",
       "279653       127       72     6       927   2700   56401.68133   \n",
       "247218       161       20     1     66502   5637   54053.42396   \n",
       "...          ...      ...   ...       ...    ...           ...   \n",
       "279212        43       72     6       769   1847   20889.14617   \n",
       "277856        91       42     5     19422   4155  118896.06830   \n",
       "233000        87        8     1     80653   2829   88878.57034   \n",
       "287425       439       48     2     76034  11542  167148.83770   \n",
       "265371         3       32     1     89123   3726   54886.07827   \n",
       "\n",
       "        second_mortgage  home_equity     debt  hs_degree  age_median  pct_own  \\\n",
       "UID                                                                             \n",
       "267822          0.02077      0.08919  0.52963    0.89288   44.666665  0.79046   \n",
       "246444          0.02222      0.04274  0.60855    0.90487   34.791665  0.52483   \n",
       "245683          0.00000      0.09512  0.73484    0.94288   41.833330  0.85331   \n",
       "279653          0.01086      0.01086  0.52714    0.91500   49.750000  0.65037   \n",
       "247218          0.05426      0.05426  0.51938    1.00000   22.000000  0.13046   \n",
       "...                 ...          ...      ...        ...         ...      ...   \n",
       "279212          0.00000      0.00000  0.11694    0.60155   40.916670  0.60422   \n",
       "277856          0.02112      0.19641  0.65364    0.95737   39.166665  0.68072   \n",
       "233000          0.02024      0.07857  0.58095    0.93555   44.166665  0.78508   \n",
       "287425          0.07550      0.12556  0.65722    0.98540   45.041670  0.93970   \n",
       "265371          0.01412      0.18362  0.65537    0.87370   31.166665  0.27912   \n",
       "\n",
       "        married  separated  divorced  \n",
       "UID                                   \n",
       "267822  0.57851    0.01240   0.08770  \n",
       "246444  0.34886    0.01426   0.09030  \n",
       "245683  0.64745    0.01607   0.10657  \n",
       "279653  0.47257    0.02021   0.10106  \n",
       "247218  0.12356    0.00000   0.03109  \n",
       "...         ...        ...       ...  \n",
       "279212  0.24603    0.02249   0.14683  \n",
       "277856  0.61127    0.02473   0.04888  \n",
       "233000  0.70451    0.00520   0.07712  \n",
       "287425  0.75503    0.00915   0.05261  \n",
       "265371  0.34426    0.03005   0.13320  \n",
       "\n",
       "[27321 rows x 15 columns]"
      ]
     },
     "execution_count": 205,
     "metadata": {},
     "output_type": "execute_result"
    }
   ],
   "source": [
    "x_train"
   ]
  },
  {
   "cell_type": "code",
   "execution_count": 207,
   "metadata": {},
   "outputs": [],
   "source": [
    "y_train=train['hc_mortgage_mean']"
   ]
  },
  {
   "cell_type": "code",
   "execution_count": 208,
   "metadata": {},
   "outputs": [
    {
     "data": {
      "text/plain": [
       "UID\n",
       "267822    1414.80295\n",
       "246444     864.41390\n",
       "245683    1506.06758\n",
       "279653    1175.28642\n",
       "247218    1192.58759\n",
       "             ...    \n",
       "279212     770.11560\n",
       "277856    2210.84055\n",
       "233000    1671.07908\n",
       "287425    3074.83088\n",
       "265371    1455.42340\n",
       "Name: hc_mortgage_mean, Length: 27321, dtype: float64"
      ]
     },
     "execution_count": 208,
     "metadata": {},
     "output_type": "execute_result"
    }
   ],
   "source": [
    "y_train"
   ]
  },
  {
   "cell_type": "code",
   "execution_count": 214,
   "metadata": {},
   "outputs": [],
   "source": [
    "x_test=test[input_cols]\n",
    "y_test=test['hc_mortgage_mean']"
   ]
  },
  {
   "cell_type": "code",
   "execution_count": 211,
   "metadata": {},
   "outputs": [],
   "source": [
    "from sklearn.preprocessing import StandardScaler"
   ]
  },
  {
   "cell_type": "code",
   "execution_count": 213,
   "metadata": {},
   "outputs": [],
   "source": [
    "sc=StandardScaler()"
   ]
  },
  {
   "cell_type": "code",
   "execution_count": 216,
   "metadata": {},
   "outputs": [],
   "source": [
    "x_train_scaled=sc.fit_transform(x_train)\n",
    "x_test_scaled=sc.fit_transform(x_test)"
   ]
  },
  {
   "cell_type": "code",
   "execution_count": 217,
   "metadata": {},
   "outputs": [],
   "source": [
    "#apply linear regression model \n",
    "from sklearn.linear_model import LinearRegression \n",
    "linear_reg=LinearRegression() \n",
    "linear_reg.fit(x_train_scaled,y_train) \n",
    "y_pred=linear_reg.predict(x_test_scaled)"
   ]
  },
  {
   "cell_type": "code",
   "execution_count": 218,
   "metadata": {},
   "outputs": [
    {
     "data": {
      "text/plain": [
       "array([ 874.67481013, 1597.10903054, 1086.41351981, ..., 1915.00495942,\n",
       "       1505.10480889, 1151.68011643])"
      ]
     },
     "execution_count": 218,
     "metadata": {},
     "output_type": "execute_result"
    }
   ],
   "source": [
    "y_pred"
   ]
  },
  {
   "cell_type": "code",
   "execution_count": 219,
   "metadata": {},
   "outputs": [
    {
     "name": "stdout",
     "output_type": "stream",
     "text": [
      "Mean Squared error 325.0919574748077\n"
     ]
    }
   ],
   "source": [
    "from sklearn.metrics import mean_squared_error,r2_score,accuracy_score \n",
    "print('Mean Squared error',np.sqrt(mean_squared_error(y_test,y_pred)))"
   ]
  },
  {
   "cell_type": "code",
   "execution_count": 220,
   "metadata": {},
   "outputs": [],
   "source": [
    "#Run another model at State level. There are 52 states in USA."
   ]
  },
  {
   "cell_type": "code",
   "execution_count": 221,
   "metadata": {},
   "outputs": [
    {
     "data": {
      "text/plain": [
       "array([36, 18, 72, 20,  1, 48, 45,  6,  5, 24, 17, 19, 47, 32, 22,  8, 44,\n",
       "       28, 34, 41,  4, 12, 55, 42, 37, 51, 26, 39, 40, 13, 16, 46, 27, 29,\n",
       "       53, 56,  9, 54, 21, 25, 11, 15, 30,  2, 33, 49, 50, 31, 38, 35, 23,\n",
       "       10])"
      ]
     },
     "execution_count": 221,
     "metadata": {},
     "output_type": "execute_result"
    }
   ],
   "source": [
    "train['STATEID'].unique()"
   ]
  },
  {
   "cell_type": "code",
   "execution_count": 224,
   "metadata": {},
   "outputs": [
    {
     "name": "stdout",
     "output_type": "stream",
     "text": [
      "state id--> 20\n",
      "root Mean Squared error 307.9718899931471\n",
      "R2 score 0.6046603766461811\n",
      "state id--> 1\n",
      "root Mean Squared error 307.7896199248688\n",
      "R2 score 0.8104850042868166\n",
      "state id--> 45\n",
      "root Mean Squared error 225.62754461084364\n",
      "R2 score 0.7888730697076223\n"
     ]
    }
   ],
   "source": [
    "for i in [20,1,45]: \n",
    "    print('state id-->',i) \n",
    "    x_train_nation=train[train['COUNTYID']==i][input_cols] \n",
    "    y_train_nation=train[train['COUNTYID']==i]['hc_mortgage_mean'] \n",
    "    x_test_nation=test[test['COUNTYID']==i][input_cols] \n",
    "    y_test_nation=test[test['COUNTYID']==i]['hc_mortgage_mean'] \n",
    "    x_train_scaled_nation=sc.fit_transform(x_train_nation) \n",
    "    x_test_scaled_nation=sc.fit_transform(x_test_nation) \n",
    "    linear_reg.fit(x_train_scaled_nation,y_train_nation) \n",
    "    yprd=linear_reg.predict(x_test_scaled_nation) \n",
    "    print('root Mean Squared error',np.sqrt(mean_squared_error(y_test_nation,yprd))) \n",
    "    print('R2 score',r2_score(y_test_nation,yprd))"
   ]
  },
  {
   "cell_type": "code",
   "execution_count": null,
   "metadata": {},
   "outputs": [],
   "source": []
  }
 ],
 "metadata": {
  "kernelspec": {
   "display_name": "Python 3",
   "language": "python",
   "name": "python3"
  },
  "language_info": {
   "codemirror_mode": {
    "name": "ipython",
    "version": 3
   },
   "file_extension": ".py",
   "mimetype": "text/x-python",
   "name": "python",
   "nbconvert_exporter": "python",
   "pygments_lexer": "ipython3",
   "version": "3.7.6"
  }
 },
 "nbformat": 4,
 "nbformat_minor": 4
}
